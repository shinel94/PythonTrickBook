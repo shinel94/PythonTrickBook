{
 "cells": [
  {
   "cell_type": "markdown",
   "metadata": {},
   "source": [
    "# Assert문\n",
    "> * Python에서 제공하는 Assert기능을 통해서 단언 조건을 확인해서 디버깅을 더욱 편하게 하는 기능을 제공한다. <br>\n",
    "> * 단언문은 디버깅을 도와서 더욱 효과적으로 버그의 근본 원인을 찾을 수 있게 도와주는 방식이다. <br>\n",
    "> * 프로그램이 사용자가 생각한데로 작성되고 기능한다면 즉 버그가 존재하지 않는다면 단언문 에러는 발생하지 않는다. <br>\n",
    "> * assert(단언조건), \"errormessage\"형식으로 사용된다."
   ]
  },
  {
   "cell_type": "markdown",
   "metadata": {},
   "source": [
    "또한 Assert문은 인터프리터에서 Assert의 단언 조건을 검사하지 않게 설정할 수 있기 때문에, 보안의 이유로 하는 검증에는 단언문을 활용하면 안된다. <br>\n",
    "그리고 같은 이유로 단언문을 활용해서 데이터의 유효성을 검증하게되면 위와 같이 인터프리터에서 단언 조건을 확인 하지 않는 설정으로 변경하게 되었을때 심각한 버그가 발생하게 된다. <br>\n",
    "\n",
    "* example<br>\n",
    "<code>\n",
    "def delete_product(prod_id,user):\n",
    "    assert(user.is_admin(), \"must be admin\" \n",
    "    assert(store.has_product(prod_id),\"Unknown product\"\n",
    "    store.get_product(prod_id).delete()\n",
    "</code>    \n",
    "와 같은 코드가 작성되어 있을때 <br>\n",
    "assert문의 단언 검사를 하지 않도록 설정하게 되면 어떠한 유저도 delete_product에 접근할 수 있게되고<br>\n",
    "또한 없는 product가 제거되는 버그가 발생 할 수 있고, 이는 프로그래머가 예측할 수 없게 프로그램이 작동하게 된다.<br>"
   ]
  },
  {
   "cell_type": "markdown",
   "metadata": {},
   "source": [
    "위와 같은 상황을 막기위해서는 데이터 유효성을 검사를 수행하는 용도로는 assert문을 절대로 사용하면 안되며, <br>\n",
    "이를 위해서는 반드시 if조건문을 활용하고, 필요에 따라 유효성 검사 에러를 발생시켜야 한다. <br>\n",
    "따라서 위의 코드는 아래와 같이 변경되어야 한다. <br> \n",
    "<code>\n",
    "def delete_product(prod_id,user):\n",
    "    if (not(user.is_admin())):\n",
    "         raise Error(\"must be admin\")\n",
    "    if (not(store.has_product(product_id))):\n",
    "        raise Error(\"unknown product_id\")\n",
    "    store.get_product(prod_id).delete()\n",
    "</code>\n",
    "이때 Error는 Exception객체를 상속받는 error여야 한다."
   ]
  },
  {
   "cell_type": "markdown",
   "metadata": {},
   "source": [
    "단언문을 작성할때 입력인자를 튜플로 여러개를 입력하게 되면 이는 반드시 참이되기 때문에 단언문 효력이 없어진다.\n",
    "* example\n",
    "<code>\n",
    "    assert(1==2,'this should fail')\n",
    "</code>\n",
    "위와 같은 형식으로 코드를 작성하게 되면\n",
    "파이썬의 경우 비어있지 않은 튜플을 제외한 모든 값은 참으로 반환이 되기 때문에 단언문은 항상 참이 되어서 단언문의 효력이 없어진다.\n",
    "그리고 파이썬3의 경우 단언문이 항상 참인 경우 Warning을 통해서 프로그래머에게 알려주게 된다."
   ]
  },
  {
   "cell_type": "code",
   "execution_count": 4,
   "metadata": {},
   "outputs": [
    {
     "name": "stderr",
     "output_type": "stream",
     "text": [
      "<>:1: SyntaxWarning: assertion is always true, perhaps remove parentheses?\n",
      "<>:1: SyntaxWarning: assertion is always true, perhaps remove parentheses?\n",
      "<>:1: SyntaxWarning: assertion is always true, perhaps remove parentheses?\n",
      "<ipython-input-4-f29f76792a84>:1: SyntaxWarning: assertion is always true, perhaps remove parentheses?\n",
      "  assert(1==2,2==3)\n"
     ]
    }
   ],
   "source": [
    "assert(1==2,2==3)"
   ]
  },
  {
   "cell_type": "code",
   "execution_count": null,
   "metadata": {},
   "outputs": [],
   "source": []
  }
 ],
 "metadata": {
  "kernelspec": {
   "display_name": "Python 3",
   "language": "python",
   "name": "python3"
  },
  "language_info": {
   "codemirror_mode": {
    "name": "ipython",
    "version": 3
   },
   "file_extension": ".py",
   "mimetype": "text/x-python",
   "name": "python",
   "nbconvert_exporter": "python",
   "pygments_lexer": "ipython3",
   "version": "3.7.3"
  }
 },
 "nbformat": 4,
 "nbformat_minor": 2
}
