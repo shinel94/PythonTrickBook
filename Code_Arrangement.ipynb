{
 "cells": [
  {
   "cell_type": "markdown",
   "metadata": {},
   "source": [
    "# Assert문\n",
    "> * Python에서 제공하는 Assert기능을 통해서 단언 조건을 확인해서 디버깅을 더욱 편하게 하는 기능을 제공한다. <br>\n",
    "> * 단언문은 디버깅을 도와서 더욱 효과적으로 버그의 근본 원인을 찾을 수 있게 도와주는 방식이다. <br>\n",
    "> * 프로그램이 사용자가 생각한데로 작성되고 기능한다면 즉 버그가 존재하지 않는다면 단언문 에러는 발생하지 않는다. <br>\n",
    "> * assert(단언조건), \"errormessage\"형식으로 사용된다."
   ]
  },
  {
   "cell_type": "markdown",
   "metadata": {},
   "source": [
    ">또한 Assert문은 인터프리터에서 Assert의 단언 조건을 검사하지 않게 설정할 수 있기 때문에, 보안의 이유로 하는 검증에는 단언문을 활용하면 안된다. <br>\n",
    "그리고 같은 이유로 단언문을 활용해서 데이터의 유효성을 검증하게되면 위와 같이 인터프리터에서 단언 조건을 확인 하지 않는 설정으로 변경하게 되었을때 심각한 버그가 발생하게 된다. <br>\n",
    "\n",
    "* example<br>\n",
    "<code>\n",
    "def delete_product(prod_id,user):\n",
    "    assert(user.is_admin(), \"must be admin\" \n",
    "    assert(store.has_product(prod_id),\"Unknown product\"\n",
    "    store.get_product(prod_id).delete()\n",
    "</code>    \n",
    "\n",
    ">와 같은 코드가 작성되어 있을때 <br>\n",
    "assert문의 단언 검사를 하지 않도록 설정하게 되면 어떠한 유저도 delete_product에 접근할 수 있게되고<br>\n",
    "또한 없는 product가 제거되는 버그가 발생 할 수 있고, 이는 프로그래머가 예측할 수 없게 프로그램이 작동하게 된다.<br>"
   ]
  },
  {
   "cell_type": "markdown",
   "metadata": {},
   "source": [
    ">위와 같은 상황을 막기위해서는 데이터 유효성을 검사를 수행하는 용도로는 assert문을 절대로 사용하면 안되며, <br>\n",
    "이를 위해서는 반드시 if조건문을 활용하고, 필요에 따라 유효성 검사 에러를 발생시켜야 한다. <br>\n",
    "따라서 위의 코드는 아래와 같이 변경되어야 한다. <br> \n",
    "* example\n",
    "<code>\n",
    "def delete_product(prod_id,user):\n",
    "    if (not(user.is_admin())):\n",
    "         raise Error(\"must be admin\")\n",
    "    if (not(store.has_product(product_id))):\n",
    "        raise Error(\"unknown product_id\")\n",
    "    store.get_product(prod_id).delete()\n",
    "</code>\n",
    "\n",
    ">이때 Error는 Exception객체를 상속받는 error여야 한다."
   ]
  },
  {
   "cell_type": "markdown",
   "metadata": {},
   "source": [
    "> 단언문을 작성할때 입력인자를 튜플로 여러개를 입력하게 되면 이는 반드시 참이되기 때문에 단언문 효력이 없어진다.<br>\n",
    "* example\n",
    "<code>\n",
    "    assert(1==2,'this should fail')\n",
    "</code>\n",
    "\n",
    "> 위와 같은 형식으로 코드를 작성하게 되면 <br>\n",
    "파이썬의 경우 비어있지 않은 튜플을 제외한 모든 값은 참으로 반환이 되기 때문에 단언문은 항상 참이 되어서 단언문의 효력이 없어진다.<br>\n",
    "그리고 파이썬3의 경우 단언문이 항상 참인 경우 Warning을 통해서 프로그래머에게 알려주게 된다.<br>"
   ]
  },
  {
   "cell_type": "code",
   "execution_count": 4,
   "metadata": {},
   "outputs": [
    {
     "name": "stderr",
     "output_type": "stream",
     "text": [
      "<>:1: SyntaxWarning: assertion is always true, perhaps remove parentheses?\n",
      "<>:1: SyntaxWarning: assertion is always true, perhaps remove parentheses?\n",
      "<>:1: SyntaxWarning: assertion is always true, perhaps remove parentheses?\n",
      "<ipython-input-4-f29f76792a84>:1: SyntaxWarning: assertion is always true, perhaps remove parentheses?\n",
      "  assert(1==2,2==3)\n"
     ]
    }
   ],
   "source": [
    "assert(1==2,2==3)"
   ]
  },
  {
   "cell_type": "markdown",
   "metadata": {},
   "source": [
    "# 쉼표를 활용한 코드정리\n",
    ">파이썬의 리스트, 딕셔너리, 세트와 같이 여러개의 변수가 담기는 파일을 선얼할때는 <br>\n",
    "행이 끝날때 쉼표를 통해서 구분하면 된다. <br>\n",
    "<code>\n",
    "    names = ['alice','bob','dilbert']\n",
    "</code>\n",
    "\n",
    ">와 같이 정의 되어 있는 코드의 경우<br>\n",
    "<code>\n",
    "    names = [\n",
    "            'alice',\n",
    "            'bob',\n",
    "            'dilbert'\n",
    "    ]\n",
    "</code>\n",
    "\n",
    ">와 같이 보다 효과적으로 코드를 작성할 수 있게 되고 보는 사람 역시 보다 명확하게 인식할 수 있으며 <br>\n",
    "이를 통해서 줄넘김의 마지막만 행의 마지막 요소에 쉼표만 확인하게 되면 된다.\n",
    "이때 쉼표가 생략되어 있는 경우 파이썬은 자동적으로 두개의 문자를 합친 데이터를 반환하게 된다. <br>\n",
    "그를 통해서 여러줄의 데이터를 입력하는 경우 백슬래쉬 숫자를 줄인체로 병합할 수 있는 장점이 있다. <br>"
   ]
  },
  {
   "cell_type": "code",
   "execution_count": 6,
   "metadata": {},
   "outputs": [
    {
     "name": "stdout",
     "output_type": "stream",
     "text": [
      "['alice', 'bob', 'dilbertjane']\n"
     ]
    }
   ],
   "source": [
    "names = [\n",
    "        'alice',\n",
    "        'bob',\n",
    "        'dilbert'\n",
    "        'jane'\n",
    "        ]\n",
    "print(names)"
   ]
  },
  {
   "cell_type": "markdown",
   "metadata": {},
   "source": [
    ">위와 같이 쉼표를 생략하게 되면 두개의 문자열을 합쳐서 반환하게 되며<br>\n",
    "쉼표를 행 마지막에 추가하면 이런 문제로 인한 디버깅을 보다 효과적으로 진행할 수 있다.<br>\n",
    "그리고 파이썬의 경우 마지막 항목뒤에도 콤마를 붙여서 작성하여도 되기 떄문에<br>\n",
    "본 코드스타일을 몸에 익히게 되면 보다 명확한 코드 작성을 할 수 있게 된다. <br>"
   ]
  },
  {
   "cell_type": "code",
   "execution_count": 8,
   "metadata": {},
   "outputs": [
    {
     "name": "stdout",
     "output_type": "stream",
     "text": [
      "['alice', 'bob', 'dilbert', 'jane']\n"
     ]
    }
   ],
   "source": [
    "names = [\n",
    "        'alice',\n",
    "        'bob',\n",
    "        'dilbert',\n",
    "        'jane',\n",
    "        ]\n",
    "print(names)"
   ]
  },
  {
   "cell_type": "markdown",
   "metadata": {},
   "source": [
    "# 콘텍스트 매니저와 with 문\n",
    ">with 문은 기능을 추사황하고 재사용할 수 있게 하여 일반적인 리소스 관리 패턴을 단순화하는 데 도움이 된다.<br>\n",
    "특히 with문에 호출된 변수의 경우 context를 벗어나게 되면 자동으로 닫히고 제거되기 때문에 메모리 관리를 보다 효과적으로 할 수 있다.<br>\n",
    "* example\n",
    "<code>\n",
    "    f = open('hello.txt','w')\n",
    "    f.write('hello, world')\n",
    "    f.close()\n",
    "    </code>\n",
    "와 같은 코드를 작성하게 되면 이때 f.write에서 에러가 발생하게 되면 f.close()코드가 실행이 되지 않고 프로그램이 종료된다. <br>\n",
    "이와 같은 문제를 막기 위해서는 아래와 같이 코드를 장성해야 하는데<br>\n",
    "<code>\n",
    "    f = open('hello.txt','w')\n",
    "    try:\n",
    "        f.write('hello, world!')\n",
    "    finally:\n",
    "        f.close()\n",
    "    </code>\n",
    "처럼 에러가 발생하더라고 파일을 닫히게 해야한다.<br>\n",
    "하지만 with문을 활용하게 되면 위와 같은 코드가 보다 단순해 진다.\n",
    "<code>\n",
    "    with open('hello.txt','w') as f:\n",
    "        f.write('hello, world!')\n",
    "    </code>\n",
    "와 같이 작성하게 되면 with문을 벗어날때 자동으로 f가 종료되면서 메모리에서 제거된다."
   ]
  },
  {
   "cell_type": "markdown",
   "metadata": {},
   "source": [
    "> Threding.Lock와 같이 메모리의 접근을 제한하는 기능을 사용하는 경우에 with을 사용하면 보다 효과적이다 <br>\n",
    "some_lock = threading.Lock()로 할당 된코드의 경우 쓰레드의 relase가 반드시 실행되어야 하는데 이를 <br>\n",
    "<code>\n",
    "with some_lock:\n",
    "    some_code\n",
    "</code>\n",
    "와 같은 방식으로 진행하면 보다 효과적으로 메모리를 관리할 수 있다. <br>"
   ]
  },
  {
   "cell_type": "markdown",
   "metadata": {},
   "source": [
    "> threading.Lock 클래서에서 with문을 사용하는 거서럼 새로운 객체를 구현하기 위해서는 콘텍스트 매니저를 구현하여서 사용하여야 한다.<br>\n",
    "이를 위해서는 객체에 \\_\\_enter\\_\\_ 와 \\_\\_exit\\_\\_ 메소드가 반드시 구현되어 있어야 한다.<br>\n",
    "아래는 파이썬의 open()에 구현되어 있는 콘텍스트 매니저이다."
   ]
  },
  {
   "cell_type": "code",
   "execution_count": 1,
   "metadata": {},
   "outputs": [],
   "source": [
    "class ManagedFile:\n",
    "    def __init__(self,name):\n",
    "        self.name = name\n",
    "    def __enter__(self):\n",
    "        self.file = open(self.name,'w')\n",
    "        return self.file\n",
    "    def __exit__(self,exc_type,exc_val,exc_tb):\n",
    "        if self.file:\n",
    "            self.file.close()"
   ]
  },
  {
   "cell_type": "markdown",
   "metadata": {},
   "source": [
    ">와 같이 두가지 메서드를 모두 구현하게 되면 with을 통한 호출과 메모리 관리르 적용할 수 있다.\n",
    "콘텍스트에 입력으로 들어가게 되면 바로 \\_\\_enter\\_\\_메서드를 호출하게 되고\n",
    "실행이 콘텍스트에서 벗어날때 \\_\\_exit\\_\\_메서드를 호출하게 된다.\n",
    "그리고 보다 효율적으로 콘테그스 매니저를 사용할 경우 contextlib.contextmanager의 데코레이터를 사용하면 리소스에 대한 제네레이터 기반의 팩터리 함수를 정의 할 수 있고 이는 with문을 자동으로 지원하게 된다. <br>\n",
    "아래와 같은 방식으로 코드를 작성하면 된다."
   ]
  },
  {
   "cell_type": "code",
   "execution_count": 3,
   "metadata": {},
   "outputs": [],
   "source": [
    "from contextlib import contextmanager\n",
    "\n",
    "@contextmanager\n",
    "def managed_file(name):\n",
    "    try:\n",
    "        f = open(name,'w')\n",
    "        yield f #yield는 제네레이터에서 사용하는 것으로 f가 호출되면 다시 제네레이터가 호출될때 까지 작동을 멈추게된다.\n",
    "    finally:\n",
    "        f.close()\n",
    "with managed_file('hello.txt') as f:\n",
    "    f.write('hello, world!')\n",
    "    f.write('bye now')"
   ]
  },
  {
   "cell_type": "markdown",
   "metadata": {},
   "source": [
    "> 위의 코드의 경우에는 제네레이터를 활용하여서 프로그램을 보다 동적으로 작성할 수 있는 능력이 있어야 하며\n",
    "기본적인 제네레이터의 경우 함수가 yield를 만나게 되면 코드 진행을 멈추고 상위 코드로 해석 순서를 넘겨서 다음줄을 진행하게 되며,<br>\n",
    "그 다음 코드가 진행중에 있다가 다시 함수가 호출되면 나머지 부분이 작동되게 된다.<br>\n",
    "그리고 @contextmanager와 같은 데코레이터의 경우 정의된 데코레이터의 방식에 따라서 동일한 기능을 다양한 함수에 추가할때 사용되는 것으로<br>\n",
    "코드가 호출될때 어떤 추가적인 기능을 불러올지 정의하는 표현이다.<br>"
   ]
  },
  {
   "cell_type": "code",
   "execution_count": 6,
   "metadata": {},
   "outputs": [],
   "source": [
    "class Indenter():\n",
    "    def __init__(self):\n",
    "        self.level = 0\n",
    "    def __enter__(self):\n",
    "        self.level += 1\n",
    "        return self\n",
    "    def __exit__(self,exc_type,exc_val,exc_tb):\n",
    "        self.level -= 1\n",
    "    def print(self,text):\n",
    "        print(' '*self.level+text)\n",
    "        "
   ]
  },
  {
   "cell_type": "code",
   "execution_count": 8,
   "metadata": {},
   "outputs": [
    {
     "name": "stdout",
     "output_type": "stream",
     "text": [
      " hi!\n",
      "  hello\n",
      "   bonjour\n",
      " hey\n"
     ]
    }
   ],
   "source": [
    "with Indenter() as indent:\n",
    "    indent.print('hi!')\n",
    "    with indent:\n",
    "        indent.print('hello')\n",
    "        with indent:\n",
    "            indent.print('bonjour')\n",
    "    indent.print('hey')"
   ]
  },
  {
   "cell_type": "markdown",
   "metadata": {},
   "source": [
    ">위와 같은 방식으로 콘테그슽 매니저를 사용할 수 있으며 \\_\\_exit\\_\\_를 구현할때는 반드시 4개의 인자를 입력하여야 한다.<br>\n",
    "with문은 try/finally문을 사용을 콘텍스트 매니저를 활용하여서 보다 단순하게 코드를 작성할 수 있게 해준다.<br>\n",
    "with문은 리소스를 관리함에 있어서 메모리 누수를 보다 효율적으로 관리 할 수 있게 도와주며 코드도 보다 명확하게 만들어준다.<br>\n",
    "그리고 권한할당같은 경우에도 with문을 벗어나면 자동으로 권한을 제거하게 프로그램을 작성 할 수 있다.<br>"
   ]
  },
  {
   "cell_type": "markdown",
   "metadata": {},
   "source": [
    "# 파이썬의 밑줄문자와 던더\n",
    ">파이썬은 밑줄에 특별한 의미를 부여하여서 프로그래머에게 힌트를 줄 수 있고, 또 그중 일부는 인터프리터에서 강제하는 기능이 있다.<br>\n",
    "기본적으로 밑줄을 사용하는 경우가 5가지 경우가 있다.\n",
    "* 단일 밑줄 접두사 : \\_var\n",
    "* 단일 밑줄 접미사 : var\\_\n",
    "* 이중 밑줄 접두사 : \\_\\_var\n",
    "* 이중 밑줄 접미사 : var\\_\\_\n",
    "* 단독 밑줄 문자 : _"
   ]
  },
  {
   "cell_type": "markdown",
   "metadata": {},
   "source": [
    "## 단일 밑줄 접두사 _var\n",
    "\n",
    ">단일 밑줄 접두사은 프로그램의 기능적인 측면이 아닌 관례적인 측면에서 사용하는 것으로<br>\n",
    "프로그래머사이에서 통용되는 특별한 의미를 주기위해서 사용하는 특별한 기능이 없는 방식이다.<br>\n",
    "구체적으로는 단일 밑줄 접두사가 붙은 변수나 메서드의 경우 객체 내부에서만 사용되는 것이라는 암묵적인 전제가 있다. <br>\n",
    "이러한 관례는 인터프리터에의해 강제되지는 않지만 파이썬의 private와 public이 구분이 없기 때문에 사용된다.<br>\n",
    "하지만 단일 밑줄 접두사의 경우에는 관례적인 것이기 때문에 변수가 호출될때 이를 방해하지 않는다.<br>\n",
    "변수와 메서드의 이름에 관해서는 합의된 관례이지만 모듈에서 이름을 가져올때는 영향을 주게 된다.<br>\n",
    "다시말해서 모듈에서 import를 통해서 불러올때 \\*을 통해서 모든 변수를 불러오더라도 단일 밑줄 접두가사 붙은 객체에 대해서는 정의되지 않는다.<br>\n",
    "인터프리터가 단일 밑줄 접두사가 붙은 객체에 대해서 보안성을 주지는 않지만 관례적인 방식에 의해서 private객체로 만들지 않기 위해서는 언더바를 객체 이름에 접두사로 붙이지 않는다."
   ]
  },
  {
   "cell_type": "markdown",
   "metadata": {},
   "source": [
    "## 단일 밑줄 접미사 var_\n",
    "\n",
    "> 단일 밑줄 접미사의 경우 파이썬이 이미 선언되어 있는 변수명을 사용할때 붙이는 것으로<br>\n",
    "파이썬에서 사용하는 class 나 def와 같은 키워드를 변수명으로 사용할때 사용한다.\n",
    "* example \n",
    "<code>\n",
    "    def make_obj(name,class):\n",
    "        pass\n",
    "</code>\n",
    "의 경우에는 코드가 class라는 단어를 파이썬의 키워드로 사용되기 때문에 함수가 선언되지 않는다. 이를 막기 위해서<br>\n",
    "<code>\n",
    "    def make_obj(name,class_):\n",
    "        pass\n",
    "</code>\n",
    "와 같이 class라는 키워드 뒤에 밑줄 접미사를 붙여서 에러를 막을 수 있다."
   ]
  },
  {
   "cell_type": "markdown",
   "metadata": {},
   "source": [
    "## 이중 밑줄 접미사 __var\n",
    "\n",
    "> 위와 같이 단일 밑줄 접미사 접두사는 관례적인 용도로 사용되고 특정 기능이 추가되지는 않았다.<br>\n",
    "하기만 이중 밑줄 접미사의 경우는 서브클래스에서 이름 충돌을 피하기 위해서 파이썬 인터프리터가 속성이름을 다시 쓰도록 한다.<br>\n",
    "다음과 같은 방식으로 작동한다."
   ]
  },
  {
   "cell_type": "code",
   "execution_count": 21,
   "metadata": {},
   "outputs": [],
   "source": [
    "class Test:\n",
    "    def __init__(self):\n",
    "        self.foo = 11\n",
    "        self._bar = 23\n",
    "        self.__baz =42\n",
    "    def mangled(self):\n",
    "        return self.__baz"
   ]
  },
  {
   "cell_type": "code",
   "execution_count": 22,
   "metadata": {},
   "outputs": [
    {
     "data": {
      "text/plain": [
       "['_Test__baz',\n",
       " '__class__',\n",
       " '__delattr__',\n",
       " '__dict__',\n",
       " '__dir__',\n",
       " '__doc__',\n",
       " '__eq__',\n",
       " '__format__',\n",
       " '__ge__',\n",
       " '__getattribute__',\n",
       " '__gt__',\n",
       " '__hash__',\n",
       " '__init__',\n",
       " '__init_subclass__',\n",
       " '__le__',\n",
       " '__lt__',\n",
       " '__module__',\n",
       " '__ne__',\n",
       " '__new__',\n",
       " '__reduce__',\n",
       " '__reduce_ex__',\n",
       " '__repr__',\n",
       " '__setattr__',\n",
       " '__sizeof__',\n",
       " '__str__',\n",
       " '__subclasshook__',\n",
       " '__weakref__',\n",
       " '_bar',\n",
       " 'foo',\n",
       " 'mangled']"
      ]
     },
     "execution_count": 22,
     "metadata": {},
     "output_type": "execute_result"
    }
   ],
   "source": [
    "t = Test()\n",
    "dir(t)"
   ]
  },
  {
   "cell_type": "markdown",
   "metadata": {},
   "source": [
    "> 위에서 확인 할 수 있듯이 가장 위의 속성에 \\_Test\\_\\_baz 라는 속성이 추가되는것을 확인 할 수 있다.<br>\n",
    "이를 통해서 같은 변수명을 사용하는 서브클래스에서 동일한 변수명을 정의해서 값이 변경되는 데이터 오염을 막을 수 있게 된다.<br>\n",
    "즉 더블 언더바(던더)가 접두사로 사용되는 변수나 메서드가 private로서 선언되는 것이 아니라 <br>\n",
    "서브클래스를 작성할때 발생되는 데이터 오염을 막는데 사용되는 기능이다. <br>"
   ]
  },
  {
   "cell_type": "markdown",
   "metadata": {},
   "source": [
    "## 이중 밑줄 접두사와 접미사 \\_\\_var\\_\\_\n",
    "\n",
    "> 이름의 시작과 끝이 모두 이중 밑줄 문자일떄는 위와 같이 네임 맹글링 (서브클래스에서 같은 이름으로 선언될때 이를 막기위해서 현재 객체이름을 변수나 메서드 이름앞에 추가하는 기능)이 적용되지 않는다. 즉 인터프리터가 건드리지 않게 된다.<br>\n",
    "그리고 파이썬의 경우 이중 밑줄 문자가 있는 이름은 아래와 같이 특정 기능을 하게 미리 예약되어 있다..<br>\n",
    "* \\_\\_init\\_\\_ 객체 생성자를 정의하는 경우\n",
    "* \\_\\_call\\_\\_ 객체 호출을 가능하게 만드는 메서드의 경우\n",
    "와 같이 미리 예약되어 있는 던더 메서드(더블언더바 메서드)를 마법 메서드 (magic method)라고 부르기도 하지만 지양하는 것이 좋다.<br>\n",
    "그리고 파이썬이 버전업 되면서 메서드이름이 변경되거나 새로운 메서드가 추가될때 이로인한 충돌을 막기 위해서<br>\n",
    "내가 작성한 프로그램에는 던더를 접두사와 접미사로 사용하는 변수나 메서드는 정의하지 않는것이 좋다."
   ]
  },
  {
   "cell_type": "markdown",
   "metadata": {},
   "source": [
    "## 단독 밑줄 문자 _\n",
    "\n",
    "> 단독 밑줄 문자의 경우 관례에 따라 변수가 임시적이거나 중요하지 않을 때 사용하는 변수명이다.<br>\n",
    "언패킹 표현식에서 단독 밑줄 문자를 사용하여서 특정 값을 무시하는 '상관없음,don't care'를 나타내기 위한 관례적 표현이기도 하다.<br>\n",
    "또한 파이썬 인터프리터에서 구한 가장 마지막 결괏값이 저장되는 공간이기도 하다.<br>\n",
    "인터프리터에서 직접 코드를 수행하는 경우 즉 공학계산기의 Ans를 호출할때와 같은 기능을 한다."
   ]
  },
  {
   "cell_type": "markdown",
   "metadata": {},
   "source": [
    "# 파이썬의 문자열을 형식화 하는 4가지 방법"
   ]
  },
  {
   "cell_type": "code",
   "execution_count": 25,
   "metadata": {},
   "outputs": [],
   "source": [
    "errno = 50159747054\n",
    "name = 'Bob'"
   ]
  },
  {
   "cell_type": "markdown",
   "metadata": {},
   "source": [
    ">위와 같이 선언되어 있다는 전제로 아래의 4가지 방법을 소개한다."
   ]
  },
  {
   "cell_type": "markdown",
   "metadata": {},
   "source": [
    "## 1. 구식 문자열 형식화\n",
    "\n",
    "> C에서 재공되는 것과 같은 방식으로 파이썬도 %를 활용한 문자열을 형식화 하는 기능을 제공한다.<br>\n",
    "<code>\n",
    "    'Hello, %s' %name\n",
    "</code>\n",
    "와 같은 방식으로 C의 printf와 같은 형식으로 문자열을 형식화 할 수 있다.<br>\n",
    "이와 같이 %를 활용하는 경우 여러개의 변수를 하나의 문자열에 사용할때는 %이후에 튜플이 입력되어야 하고 <br>\n",
    "또한 %이후에 이름을 명시하는 방식으로 문자열을 사용할 수 있다.<br>\n",
    "그리고 정숫값의 입력의 경우에는 이를 16진수로 자동으로 변경하는 기능도 제공한다.<br>"
   ]
  },
  {
   "cell_type": "code",
   "execution_count": 29,
   "metadata": {},
   "outputs": [
    {
     "data": {
      "text/plain": [
       "'Hey Bob, there is a 0xbadc0ffee error!'"
      ]
     },
     "execution_count": 29,
     "metadata": {},
     "output_type": "execute_result"
    }
   ],
   "source": [
    "'Hey %s, there is a 0x%x error!' %(name,errno)"
   ]
  },
  {
   "cell_type": "code",
   "execution_count": 32,
   "metadata": {},
   "outputs": [
    {
     "data": {
      "text/plain": [
       "'Hey Bob, there is a 0xbadc0ffee error!'"
      ]
     },
     "execution_count": 32,
     "metadata": {},
     "output_type": "execute_result"
    }
   ],
   "source": [
    "'Hey %(name)s, there is a 0x%(errno)x error!' %{\"name\":name,\"errno\":errno}"
   ]
  },
  {
   "cell_type": "markdown",
   "metadata": {},
   "source": [
    "> 이때 변수명을 사용할 경우 반드시 dict타입으로 입력해주어야 하기 때문에 튜플타입인 ()가 아닌 {}로 입력해야 한다."
   ]
  },
  {
   "cell_type": "markdown",
   "metadata": {},
   "source": [
    "## 2. 신식 문자열 형식화\n",
    "\n",
    "> %연산자를 사용하는 특수 구문을 제거하고 문자열 형식화를 위해서 보다 규칙적인 구문으로 코드를 작성하기 위해서<br>\n",
    "문자열 객체의 format() 메서드를 호출해서 형식을 보다 효과적으로 지정할 수 있다.<br>\n",
    "구식 표현과 같은 방식으로 표현하지만 형변환을 위해서는 :x와 같은 접미사를 붙여 주어야 한다."
   ]
  },
  {
   "cell_type": "code",
   "execution_count": 35,
   "metadata": {},
   "outputs": [
    {
     "data": {
      "text/plain": [
       "'Hey Bob, there is a 0xbadc0ffee error!'"
      ]
     },
     "execution_count": 35,
     "metadata": {},
     "output_type": "execute_result"
    }
   ],
   "source": [
    "'Hey {name}, there is a 0x{errno:x} error!'.format(name=name,errno=errno)"
   ]
  },
  {
   "cell_type": "markdown",
   "metadata": {},
   "source": [
    "## 3. 리터럴 문자열 삽입(파이썬 3.6이상)\n",
    "\n",
    "> 파이썬 3.6부터는 문자열 형식을 지정하는 보다 효과적이고 좋은 방법이 제공된다.<br>\n",
    "이는 형싱화된 문자열 리터럴(formatted string literal)이라는 방식으로 불린다.<br>\n",
    "다음과 같은 방식으로 코드를 작성하면 사용할 수 있다."
   ]
  },
  {
   "cell_type": "code",
   "execution_count": 36,
   "metadata": {},
   "outputs": [
    {
     "data": {
      "text/plain": [
       "'Hello, Bob!'"
      ]
     },
     "execution_count": 36,
     "metadata": {},
     "output_type": "execute_result"
    }
   ],
   "source": [
    "f'Hello, {name}!'"
   ]
  },
  {
   "cell_type": "markdown",
   "metadata": {},
   "source": [
    "위 와 같은 표현뿐 아니라 이제 문자열 안에서 산술 연산과 같은 표현식을 내장시킬 수 있다."
   ]
  },
  {
   "cell_type": "code",
   "execution_count": 37,
   "metadata": {},
   "outputs": [
    {
     "data": {
      "text/plain": [
       "'Five plus ten is 15 and not 30.'"
      ]
     },
     "execution_count": 37,
     "metadata": {},
     "output_type": "execute_result"
    }
   ],
   "source": [
    "a = 5; b = 10\n",
    "f'Five plus ten is {a+b} and not {2*(a+b)}.'"
   ]
  },
  {
   "cell_type": "code",
   "execution_count": 40,
   "metadata": {},
   "outputs": [
    {
     "data": {
      "text/plain": [
       "'Hey Bob, there is a 0xbadc0ffee error!'"
      ]
     },
     "execution_count": 40,
     "metadata": {},
     "output_type": "execute_result"
    }
   ],
   "source": [
    "f'Hey {name}, there is a {errno:#x} error!'"
   ]
  },
  {
   "cell_type": "markdown",
   "metadata": {},
   "source": [
    ">와 같이 더이상 format과 같은 함수를 불러오지 않고 또한 간단한 표현식을 내장한 문자열을 리터럴 문자열을 통해서 작성할 수 있다."
   ]
  },
  {
   "cell_type": "markdown",
   "metadata": {},
   "source": [
    "## 4. 템플릿 문자열\n",
    "\n",
    "> 파이썬에서 문자열 형식을 지정하는 또 한가지 기술인 템플릿 문자열이다.<br>\n",
    "이는 파이썬의 내장 string 모듈에서 Template클래스를 가져와서 이용하는 것인데,<br>\n",
    "템플릿 문자열에는 형식 지정자를 허용하지 않기 때문에 형식을 변형시켜서 입력을 해야한다.<br>\n",
    "다음과 같은 방식으로 구현한다."
   ]
  },
  {
   "cell_type": "code",
   "execution_count": 41,
   "metadata": {},
   "outputs": [
    {
     "data": {
      "text/plain": [
       "'Hey Bob, there is a 0xbadc0ffee error!'"
      ]
     },
     "execution_count": 41,
     "metadata": {},
     "output_type": "execute_result"
    }
   ],
   "source": [
    "from string import Template\n",
    "templ_string = \"Hey $name, there is a $errno error!\"\n",
    "Template(templ_string).substitute(name = name, errno = hex(errno))"
   ]
  },
  {
   "cell_type": "markdown",
   "metadata": {},
   "source": [
    "## 댄 베이더의 파이썬 문자열 형식화 규칙 (어떤 문자열 표현 방식을 사용할지)\n",
    "> 형식 문자열이 사용자가 제공한 것인 경우 템플릿 문자열을 사용하여 보안 문제를 방지하라.<br>\n",
    " 데이터를 불러오고 호출하는데 있어 추가적인 보안기능을 제공하는 역할을 한다.<br>\n",
    " 그러지 않고 파이썬 3.6 이상을 사용하는 경우 리터럴 문자열 삽일을 사용하는 것이 좋다<br>\n",
    " 파이썬3.6이상을 사용하지 않는경우에는 신식 문자열 형식화가 좋다."
   ]
  },
  {
   "cell_type": "code",
   "execution_count": 42,
   "metadata": {},
   "outputs": [
    {
     "name": "stdout",
     "output_type": "stream",
     "text": [
      "The Zen of Python, by Tim Peters\n",
      "\n",
      "Beautiful is better than ugly.\n",
      "Explicit is better than implicit.\n",
      "Simple is better than complex.\n",
      "Complex is better than complicated.\n",
      "Flat is better than nested.\n",
      "Sparse is better than dense.\n",
      "Readability counts.\n",
      "Special cases aren't special enough to break the rules.\n",
      "Although practicality beats purity.\n",
      "Errors should never pass silently.\n",
      "Unless explicitly silenced.\n",
      "In the face of ambiguity, refuse the temptation to guess.\n",
      "There should be one-- and preferably only one --obvious way to do it.\n",
      "Although that way may not be obvious at first unless you're Dutch.\n",
      "Now is better than never.\n",
      "Although never is often better than *right* now.\n",
      "If the implementation is hard to explain, it's a bad idea.\n",
      "If the implementation is easy to explain, it may be a good idea.\n",
      "Namespaces are one honking great idea -- let's do more of those!\n"
     ]
    }
   ],
   "source": [
    "import this"
   ]
  },
  {
   "cell_type": "markdown",
   "metadata": {},
   "source": [
    "### 파이썬의 선, 팀 피터스 씀\n",
    ">1. 아름다움이 추함보다 좋다.\n",
    "2. 명시적인 것이 암시적인 것보다 좋다.\n",
    "3. 단순함이 복잡함보다 좋다.\n",
    "4. 복잡함이 꼬인 것보다 좋다.\n",
    "5. 수평적인 것이 중첩된 것보다 좋다.\n",
    "6. 여유로운 것이 밀집된 것보다 좋다.\n",
    "7. 가독성은 중요하다.\n",
    "8. 특별한 경우라고 해도 규칙을 어겨야 할 정도로 특별하지 않다.\n",
    "9. 비록 실용적인 이득이 이상보다 크더라도, 에러 앞에서 절대 침묵하지 말지어다.\n",
    "10. 의도적으로 침묵했음을 명시하지 않았다면, 모호함을 앞에 두고 이를 유추하겠다는 유혹을 버려라.\n",
    "11. 어떤 일에든 바람직하며 명확한 한가지 방법이 존재한다.\n",
    "12. 비록 자신이 우둔하여 그 방법이 처음에는 명확해 보이지 않을지라도, 지금 하는 것이 아예 안 하는 것보다 낫다. 아예 안 하는 것이 지금 당장 하는 것보다 나을 때도 있지만...\n",
    "13. 구현 결과를 설명하기 어렵다면 그 아이디어는 나쁘다.\n",
    "14. 구현 결과를 설명하기 쉽다면 그 아이디어는 좋은 아이디어일 수 있다.\n",
    "15. 네임스페이스는 매우 좋은 아이디어다. 많이 사용하라.\n"
   ]
  }
 ],
 "metadata": {
  "kernelspec": {
   "display_name": "Python 3",
   "language": "python",
   "name": "python3"
  },
  "language_info": {
   "codemirror_mode": {
    "name": "ipython",
    "version": 3
   },
   "file_extension": ".py",
   "mimetype": "text/x-python",
   "name": "python",
   "nbconvert_exporter": "python",
   "pygments_lexer": "ipython3",
   "version": "3.7.3"
  }
 },
 "nbformat": 4,
 "nbformat_minor": 2
}
