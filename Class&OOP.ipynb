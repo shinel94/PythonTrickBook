{
 "cells": [
  {
   "cell_type": "markdown",
   "metadata": {},
   "source": [
    "# 객체를 비교할때 사용하는 is와 ==\n",
    "\n",
    "> ==연산자는 동등 여부를 검사하여 비교한다. 즉 두마리의 쌍둥이 고양이가 있고 외형적인 특정이 유사할때 이 두 고양이는 동등하다고 할 수 있다.<br>\n",
    "is연산자는 동일 여부를 비교한다. 위 두마리의 고양이 예시의 경우 두 고양이는 서로 동일하지 않은 고양이이다.<br>\n",
    "아래의 코드로 둘의 차이점을 약간이해 할 수 있다."
   ]
  },
  {
   "cell_type": "code",
   "execution_count": 1,
   "metadata": {},
   "outputs": [],
   "source": [
    "a = [1,2,3]\n",
    "b = a\n",
    "c = list(a)"
   ]
  },
  {
   "cell_type": "code",
   "execution_count": 2,
   "metadata": {},
   "outputs": [
    {
     "name": "stdout",
     "output_type": "stream",
     "text": [
      "a == b : True\n",
      "a is b : True\n",
      "a==c : True\n",
      "a is c : False\n"
     ]
    }
   ],
   "source": [
    "print(f'a == b : {a==b}')\n",
    "print(f'a is b : {a is b}')\n",
    "print(f'a == c : {a==c}')\n",
    "print(f'a is c : {a is c}')"
   ]
  },
  {
   "cell_type": "markdown",
   "metadata": {},
   "source": [
    ">위의 결과에서 확인 할 수 있듯이 두 변수가 동일한(identical) 객체를 가리키는 경우 is 표현식은 true를 반환한다.<br>\n",
    "그리고 ==표현식은 변수가 참조하는 객체가 동등한(equal:내용이 같은)경우 True를 반환한다.<br>\n",
    "그러므로 is와 ==표현식을 사용할때 동일 여부를 검증하는 것인지 동등한 값을 검증하는것인지 확인한뒤 필요에 따라 사용할 필요가 있다."
   ]
  },
  {
   "cell_type": "markdown",
   "metadata": {},
   "source": [
    "# 문자열 변환(모든 클래스는 \\_\\_repr\\_\\_이 필요하다)\n",
    "\n",
    ">파이썬을 사용하는데 있어서 사용자 정의 클래스를 선언하고 그 인스턴스를 콘솔에서 출력하면 아래와 같은 방식을로 표현이 된다."
   ]
  },
  {
   "cell_type": "code",
   "execution_count": 3,
   "metadata": {},
   "outputs": [
    {
     "name": "stdout",
     "output_type": "stream",
     "text": [
      "<__main__.Car object at 0x00000230AA5580F0>\n"
     ]
    }
   ],
   "source": [
    "class Car:\n",
    "    def __init__(self,color,mileage):\n",
    "        self.color = color\n",
    "        self.mileage = mileage\n",
    "my_car = Car('red',37281)\n",
    "print(my_car)"
   ]
  },
  {
   "cell_type": "markdown",
   "metadata": {},
   "source": [
    "> 위는 기본적으로 얻을 수 있는 객체 이름과 그리고 인스턴스가 가리키는 id(객체의 메모리 주소)를 포함하는 문자열이다.<br>\n",
    "이때 파이썬은 자신만의 특별한 문자열 출력을 표시하는 것보다 객체의 인스턴스를 print할때 출력되는 문자열을 수정할 수 있다."
   ]
  },
  {
   "cell_type": "code",
   "execution_count": 4,
   "metadata": {},
   "outputs": [
    {
     "name": "stdout",
     "output_type": "stream",
     "text": [
      "a red car\n"
     ]
    },
    {
     "data": {
      "text/plain": [
       "<__main__.Car at 0x230aa5586d8>"
      ]
     },
     "execution_count": 4,
     "metadata": {},
     "output_type": "execute_result"
    }
   ],
   "source": [
    "class Car:\n",
    "    def __init__(self,color,mileage):\n",
    "        self.color = color\n",
    "        self.mileage = mileage\n",
    "    def __str__(self):\n",
    "        return f'a {self.color} car'\n",
    "my_car = Car('red',37281)\n",
    "print(my_car)\n",
    "my_car"
   ]
  },
  {
   "cell_type": "markdown",
   "metadata": {},
   "source": [
    "> 위와 같이 \\_\\_str\\_\\_ 즉 던더str을 정의하면 인스턴스를 print함수에 넣었을때 출력값을 설정 할 수 있게 해준다.<br>\n",
    "따라서 던더str을 잘 정의하면 객체의 속성을 직접 출력하거나 별도의 to_string을 새롭게 정의할 필요가 없어진다.\n",
    "<br>\n",
    "\n",
    "> ## \\_\\_str\\_\\_ vs \\_\\_repr\\_\\_\n",
    ">파이썬 3에서 객체가 문자열로 변환되는 방법을 던더 메서드가 2가지로 주어져있기 때문에 인스턴스를 바로 호출할때와 print와 같은 함수로 호출할때 결과값이 다르게 된다.<br> \n",
    "아래의 예시를 통해서 던더str과 던더repr의 차이점을 확인할 수 있다."
   ]
  },
  {
   "cell_type": "code",
   "execution_count": 5,
   "metadata": {},
   "outputs": [],
   "source": [
    "class Car:\n",
    "    def __init__(self,color,mileage):\n",
    "        self.color = color\n",
    "        self.mileage = mileage\n",
    "    def __repr__(self):\n",
    "        return '__repr__ for Car'\n",
    "    def __str__(self):\n",
    "        return '__str__ for Car'\n",
    "    def __test(self):\n",
    "        return '__test for Car'"
   ]
  },
  {
   "cell_type": "code",
   "execution_count": 9,
   "metadata": {},
   "outputs": [
    {
     "name": "stdout",
     "output_type": "stream",
     "text": [
      "__str__ for Car\n"
     ]
    },
    {
     "data": {
      "text/plain": [
       "'__str__ for Car'"
      ]
     },
     "execution_count": 9,
     "metadata": {},
     "output_type": "execute_result"
    }
   ],
   "source": [
    "my_car = Car('red',37281)\n",
    "print(my_car)\n",
    "'{}'.format(my_car)"
   ]
  },
  {
   "cell_type": "code",
   "execution_count": 10,
   "metadata": {},
   "outputs": [
    {
     "data": {
      "text/plain": [
       "__repr__ for Car"
      ]
     },
     "execution_count": 10,
     "metadata": {},
     "output_type": "execute_result"
    }
   ],
   "source": [
    "my_car"
   ]
  },
  {
   "cell_type": "code",
   "execution_count": 12,
   "metadata": {},
   "outputs": [
    {
     "data": {
      "text/plain": [
       "'__test for Car'"
      ]
     },
     "execution_count": 12,
     "metadata": {},
     "output_type": "execute_result"
    }
   ],
   "source": [
    "my_car._Car__test()"
   ]
  },
  {
   "cell_type": "markdown",
   "metadata": {},
   "source": [
    "> 위의 코드에서 확인할 수 있듯이 인터프리터 세션에서 객체를 검사하면(호출하면) 단순히 객체의 \\_\\_repr\\_\\_ 의 결과를 출력한다.<br>\n",
    "또한 리스트와 딕셔너리 같은 컨테이너는 포함된 객체를 나타내기 위해서 항상 \\_\\_repr\\_\\_의 결과를 사용한다.<br>\n",
    "또한 클래스 내의 던더 str과 던더 repr을 호출할때는 클래스에서 바로 호출하는것 보다 str()과 repr()과 같은 내장함수를 통해서 명확하게 명시하는것이 좋다."
   ]
  },
  {
   "cell_type": "code",
   "execution_count": 15,
   "metadata": {},
   "outputs": [],
   "source": [
    "import datetime\n",
    "today = datetime.date.today()"
   ]
  },
  {
   "cell_type": "code",
   "execution_count": 16,
   "metadata": {},
   "outputs": [
    {
     "data": {
      "text/plain": [
       "'2019-08-13'"
      ]
     },
     "execution_count": 16,
     "metadata": {},
     "output_type": "execute_result"
    }
   ],
   "source": [
    "str(today)"
   ]
  },
  {
   "cell_type": "code",
   "execution_count": 17,
   "metadata": {},
   "outputs": [
    {
     "data": {
      "text/plain": [
       "'datetime.date(2019, 8, 13)'"
      ]
     },
     "execution_count": 17,
     "metadata": {},
     "output_type": "execute_result"
    }
   ],
   "source": [
    "repr(today)"
   ]
  },
  {
   "cell_type": "markdown",
   "metadata": {},
   "source": [
    "> 위 코드에서 확인할 수 있듯이 str은 보통 사용자가 원하는 데이터를 반환해주는 형식을 지정하는것이 좋으며 <br>\n",
    "repr의 반환은 프로그래머가 해당 데이터의 반환이 어떻게 되는지 또는 주어진 객체가 어떤 특징을 가지고 있는지 표현해주는 것이 좋다.<br>\n",
    "즉 위의 에시에서 repr의 반환값은 현재 객체가 가지고 있는 전체 모듈과 클래스 이름을 나타내어서 디버깅에 도움을 주게 된다.<br>\n",
    "> ## 모든 클래스에 \\_\\_repr\\_\\_이 필요한 이유<br>\n",
    "> 만약 객체에 던더 str함수가 정의되어 있지 않을때에는 던더 str이 호출되면 던더 repr이 호출되게 된다.<br>\n",
    "따라서 사용자 정의 클래스를 정의할때는 던더repr메소드를 구현해주는 것이 좋다.<br>\n",
    "던더repr만을 구현함으로써 거의 모든경우에 유용한 문자열 변환 결과가 보장되기 때문이다."
   ]
  },
  {
   "cell_type": "code",
   "execution_count": 22,
   "metadata": {},
   "outputs": [
    {
     "name": "stdout",
     "output_type": "stream",
     "text": [
      "Car('red', 37821)\n",
      "Car('red', 37821)\n"
     ]
    }
   ],
   "source": [
    "class Car:\n",
    "    def __init__(self,color,mileage):\n",
    "        self.color = color\n",
    "        self.mileage = mileage\n",
    "    def __repr__(self):\n",
    "        return f'{self.__class__.__name__}({self.color!r}, {self.mileage!r})'\n",
    "\n",
    "my_car = Car('red',37821)\n",
    "print(repr(my_car))\n",
    "print(str(my_car))"
   ]
  },
  {
   "cell_type": "markdown",
   "metadata": {},
   "source": [
    "> 와 같이두개의 결과가 동일한 것을 확인할 수 있으며 !r 변환플래그를 통해서 출력문자열이 str(self.color)와 str(self.mileage)대신<br>\n",
    "repr(self.color)와 repr(self.mileage)를 사용하도록 했다.<br>\n",
    "따라서 클래스를 선언할때는 특별한 이유가 있지 않는이상 던더repr을 구현하는것이 좋다."
   ]
  },
  {
   "cell_type": "markdown",
   "metadata": {},
   "source": [
    "# 예외 클래스 정의하기 (Exception)\n",
    "\n",
    ">파이썬을 사용함에 있어서 사용자 정의 예외 처리 클래스를 작성하는 것은 프로그램을 유지 보수함에 있어서 잠재적인 에러 사례를 보다 <br>\n",
    "명확하게 드러나게 할 수 있기 때문에 사용자 정의 에러 타입을 사용하여서 디버깅에 도움되는 정보를 제공하는 것이 좋다.<br>\n",
    "아래와 같은 방식으로 사용자 정의 예외 처리 클래스를 정의할 수 있다."
   ]
  },
  {
   "cell_type": "code",
   "execution_count": 25,
   "metadata": {},
   "outputs": [
    {
     "ename": "NameTooShortError",
     "evalue": "jane",
     "output_type": "error",
     "traceback": [
      "\u001b[1;31m---------------------------------------------------------------------------\u001b[0m",
      "\u001b[1;31mNameTooShortError\u001b[0m                         Traceback (most recent call last)",
      "\u001b[1;32m<ipython-input-25-42946a9665b0>\u001b[0m in \u001b[0;36m<module>\u001b[1;34m\u001b[0m\n\u001b[0;32m      5\u001b[0m         \u001b[1;32mraise\u001b[0m \u001b[0mNameTooShortError\u001b[0m\u001b[1;33m(\u001b[0m\u001b[0mname\u001b[0m\u001b[1;33m)\u001b[0m\u001b[1;33m\u001b[0m\u001b[1;33m\u001b[0m\u001b[0m\n\u001b[0;32m      6\u001b[0m \u001b[1;33m\u001b[0m\u001b[0m\n\u001b[1;32m----> 7\u001b[1;33m \u001b[0mvalidate\u001b[0m\u001b[1;33m(\u001b[0m\u001b[1;34m'jane'\u001b[0m\u001b[1;33m)\u001b[0m\u001b[1;33m\u001b[0m\u001b[1;33m\u001b[0m\u001b[0m\n\u001b[0m",
      "\u001b[1;32m<ipython-input-25-42946a9665b0>\u001b[0m in \u001b[0;36mvalidate\u001b[1;34m(name)\u001b[0m\n\u001b[0;32m      3\u001b[0m \u001b[1;32mdef\u001b[0m \u001b[0mvalidate\u001b[0m\u001b[1;33m(\u001b[0m\u001b[0mname\u001b[0m\u001b[1;33m)\u001b[0m\u001b[1;33m:\u001b[0m\u001b[1;33m\u001b[0m\u001b[1;33m\u001b[0m\u001b[0m\n\u001b[0;32m      4\u001b[0m     \u001b[1;32mif\u001b[0m \u001b[0mlen\u001b[0m\u001b[1;33m(\u001b[0m\u001b[0mname\u001b[0m\u001b[1;33m)\u001b[0m \u001b[1;33m<\u001b[0m \u001b[1;36m10\u001b[0m\u001b[1;33m:\u001b[0m\u001b[1;33m\u001b[0m\u001b[1;33m\u001b[0m\u001b[0m\n\u001b[1;32m----> 5\u001b[1;33m         \u001b[1;32mraise\u001b[0m \u001b[0mNameTooShortError\u001b[0m\u001b[1;33m(\u001b[0m\u001b[0mname\u001b[0m\u001b[1;33m)\u001b[0m\u001b[1;33m\u001b[0m\u001b[1;33m\u001b[0m\u001b[0m\n\u001b[0m\u001b[0;32m      6\u001b[0m \u001b[1;33m\u001b[0m\u001b[0m\n\u001b[0;32m      7\u001b[0m \u001b[0mvalidate\u001b[0m\u001b[1;33m(\u001b[0m\u001b[1;34m'jane'\u001b[0m\u001b[1;33m)\u001b[0m\u001b[1;33m\u001b[0m\u001b[1;33m\u001b[0m\u001b[0m\n",
      "\u001b[1;31mNameTooShortError\u001b[0m: jane"
     ]
    }
   ],
   "source": [
    "class NameTooShortError(ValueError):\n",
    "    pass\n",
    "def validate(name):\n",
    "    if len(name) < 10:\n",
    "        raise NameTooShortError(name)\n",
    "\n",
    "validate('jane')"
   ]
  },
  {
   "cell_type": "markdown",
   "metadata": {},
   "source": [
    "> 위와 같이 보다 명확하게 예외를 명시해줌으로써 프로그램의 유지보수에 큰 도움이 될 수 있다.<br>\n",
    "그리고 볼륨이 큰 프로그램을 작성할때는 모듈에 대한 기본적인 사용자 정의 예외 클래스를 작성해두고 <br>\n",
    "작성된 기본 클래스를 상속받는 상세 에러를 명시하는 것이 더욱 좋다.<br>\n",
    "이를 통해서 try except문을 통한 에러를 표현할때 위와 같이 각각 다른 에러를 슈퍼클래스로 두고 에러를 정의하게 되면<br>\n",
    "except 문에서 ValueError를 검출하게 하면 예기치 못한 에러를 잡게되는 문제가 발생 할 수 있다.<br>\n",
    "이를 막기 위해서 다음과 같이 베이스 에러를 먼저 선언해둔뒤 해당 베이스를 상속받는 에러를 정의함으로써<br>\n",
    "프로그램에서 작성한 프로그래머가 원하는 에러만 예외처리를 진행 시킬 수 있다."
   ]
  },
  {
   "cell_type": "code",
   "execution_count": 26,
   "metadata": {},
   "outputs": [],
   "source": [
    "class BaseValidationError(ValueError):\n",
    "    pass\n",
    "class NameTooShortError(BaseValidationError):\n",
    "    pass\n",
    "class NameTooLongError(BaseValidationError):\n",
    "    pass\n",
    "class NameTooCuteError(BaseValidationError):\n",
    "    pass"
   ]
  },
  {
   "cell_type": "code",
   "execution_count": 27,
   "metadata": {},
   "outputs": [
    {
     "ename": "NameError",
     "evalue": "name 'name' is not defined",
     "output_type": "error",
     "traceback": [
      "\u001b[1;31m---------------------------------------------------------------------------\u001b[0m",
      "\u001b[1;31mNameError\u001b[0m                                 Traceback (most recent call last)",
      "\u001b[1;32m<ipython-input-27-86c20b2b912a>\u001b[0m in \u001b[0;36m<module>\u001b[1;34m\u001b[0m\n\u001b[0;32m      1\u001b[0m \u001b[1;32mtry\u001b[0m\u001b[1;33m:\u001b[0m\u001b[1;33m\u001b[0m\u001b[1;33m\u001b[0m\u001b[0m\n\u001b[1;32m----> 2\u001b[1;33m     \u001b[0mvalidate\u001b[0m\u001b[1;33m(\u001b[0m\u001b[0mname\u001b[0m\u001b[1;33m)\u001b[0m\u001b[1;33m\u001b[0m\u001b[1;33m\u001b[0m\u001b[0m\n\u001b[0m\u001b[0;32m      3\u001b[0m \u001b[1;32mexcept\u001b[0m \u001b[0mBaseValidationError\u001b[0m \u001b[1;32mas\u001b[0m \u001b[0merr\u001b[0m\u001b[1;33m:\u001b[0m\u001b[1;33m\u001b[0m\u001b[1;33m\u001b[0m\u001b[0m\n\u001b[0;32m      4\u001b[0m     \u001b[0mhandel_validation_error\u001b[0m\u001b[1;33m(\u001b[0m\u001b[0merr\u001b[0m\u001b[1;33m)\u001b[0m\u001b[1;33m\u001b[0m\u001b[1;33m\u001b[0m\u001b[0m\n",
      "\u001b[1;31mNameError\u001b[0m: name 'name' is not defined"
     ]
    }
   ],
   "source": [
    "try:\n",
    "    validate(name)\n",
    "except BaseValidationError as err:\n",
    "    handel_validation_error(err)"
   ]
  },
  {
   "cell_type": "markdown",
   "metadata": {},
   "source": [
    "> 위와 같은 방식으로 프로그래머가 원하는 에러에 대해서만 handle을 작성하게 할 수 있다."
   ]
  },
  {
   "cell_type": "markdown",
   "metadata": {},
   "source": [
    "# 파이썬의 추상화 클래스(구조체)\n",
    "\n",
    ">파이썬에서도 특정 객체를 상속받는 클래스의 경우 반드시 구현해야할 인터페이스 들의 정의한 부모클래스가 있을 수 있으며<br>\n",
    "구조체에 정의된 모든 클래스들을 구현하여서 객체를 인스턴스화 하고 사용하는데 있어 예상치 못한 에러를 발생하는 것을 막을 수 있다.<br>\n",
    "파이썬의 abc모듈을 통해서 추상화 클래스를 정의할 수 있다."
   ]
  },
  {
   "cell_type": "code",
   "execution_count": 29,
   "metadata": {},
   "outputs": [],
   "source": [
    "from abc import ABCMeta, abstractmethod\n",
    "\n",
    "class Base(metaclass=ABCMeta):\n",
    "    @abstractmethod\n",
    "    def foo(self):\n",
    "        pass\n",
    "    \n",
    "    @abstractmethod\n",
    "    def bar(self):\n",
    "        pass\n",
    "    \n",
    "class Concrete(Base):\n",
    "    def foo(self):\n",
    "        pass"
   ]
  },
  {
   "cell_type": "code",
   "execution_count": 30,
   "metadata": {},
   "outputs": [],
   "source": [
    "assert issubclass(Concrete,Base)"
   ]
  },
  {
   "cell_type": "code",
   "execution_count": 31,
   "metadata": {},
   "outputs": [
    {
     "ename": "TypeError",
     "evalue": "Can't instantiate abstract class Concrete with abstract methods bar",
     "output_type": "error",
     "traceback": [
      "\u001b[1;31m---------------------------------------------------------------------------\u001b[0m",
      "\u001b[1;31mTypeError\u001b[0m                                 Traceback (most recent call last)",
      "\u001b[1;32m<ipython-input-31-18c56bd1fab2>\u001b[0m in \u001b[0;36m<module>\u001b[1;34m\u001b[0m\n\u001b[1;32m----> 1\u001b[1;33m \u001b[0mc\u001b[0m \u001b[1;33m=\u001b[0m \u001b[0mConcrete\u001b[0m\u001b[1;33m(\u001b[0m\u001b[1;33m)\u001b[0m\u001b[1;33m\u001b[0m\u001b[1;33m\u001b[0m\u001b[0m\n\u001b[0m",
      "\u001b[1;31mTypeError\u001b[0m: Can't instantiate abstract class Concrete with abstract methods bar"
     ]
    }
   ],
   "source": [
    "c = Concrete()"
   ]
  },
  {
   "cell_type": "markdown",
   "metadata": {},
   "source": [
    ">위의 에러에서 확인할 수 있듯이 abstractmethod데코레이터가 붙어있는 메소드를 정의하지 않는 자식 클래스의 경우<br>\n",
    "인스턴스화하는 과정에서 TypeError를 호출시키며, 어떤 메소드가 구현되지 않았는지 명시해준다.<br>\n",
    "즉 간단한 데코레이터를 통해서 구조체를 보다 안정적으로 구현할 수 있으며<br>\n",
    "클래스가 가지고 있는 메소드가 많아질수록 프로그래머의 실수가 발생할 수 있는데 이를 보완해주는 역할을 해준다.<br>"
   ]
  },
  {
   "cell_type": "markdown",
   "metadata": {},
   "source": [
    "# 네임드튜플\n",
    "\n",
    "> 파이썬은 컨테이너의 종류중에 튜플이라는 선언시에 정의된 값을 더이상 변형하지 못하게 하는 데이터 타입이 존재한다.<br>\n",
    "하지만 튜플 데이터타입은 인덱스를 통해서 값을 호출할수만 있는데 이로인해서 프로그램의 가독성에 단점이 나타난다.<br>\n",
    "이를 해결하기위해서 collections객체 안의 namedtuple이라는 객체를 불러와서 명시적으로 튜플값에 이름을 부여해서 호출 할 수 있다."
   ]
  },
  {
   "cell_type": "code",
   "execution_count": 32,
   "metadata": {},
   "outputs": [],
   "source": [
    "from collections import namedtuple\n",
    "Car = namedtuple('Car',['color',\n",
    "                       'mileage',\n",
    "                       ])\n",
    "my_car = Car('red',3812.4)"
   ]
  },
  {
   "cell_type": "code",
   "execution_count": 33,
   "metadata": {},
   "outputs": [
    {
     "data": {
      "text/plain": [
       "'red'"
      ]
     },
     "execution_count": 33,
     "metadata": {},
     "output_type": "execute_result"
    }
   ],
   "source": [
    "my_car.color"
   ]
  },
  {
   "cell_type": "code",
   "execution_count": 34,
   "metadata": {},
   "outputs": [
    {
     "data": {
      "text/plain": [
       "3812.4"
      ]
     },
     "execution_count": 34,
     "metadata": {},
     "output_type": "execute_result"
    }
   ],
   "source": [
    "my_car.mileage"
   ]
  },
  {
   "cell_type": "code",
   "execution_count": 35,
   "metadata": {},
   "outputs": [
    {
     "data": {
      "text/plain": [
       "'red'"
      ]
     },
     "execution_count": 35,
     "metadata": {},
     "output_type": "execute_result"
    }
   ],
   "source": [
    "my_car[0]"
   ]
  },
  {
   "cell_type": "markdown",
   "metadata": {},
   "source": [
    ">위와 같이 키워드로 값을 불러올수도 있고 인덱스를 활용해서 값을 불러올 수도 있다.<br>\n",
    "따라서 사용자 정의 클래스를 정의할때 특별한 메서드를 가지지 않는 객체의 경우 네임드 튜플을 활용해서 정의하는 것이<br>\n",
    "메모리적인 측면에서도 더욱 좋다.<br>\n",
    "네임드튜플은 파이썬에서 불변 클래스를 수동으로 정의할 때 사용할 수 있는 효율적인 메모리 사용법이다.<br>\n",
    "그리고 네임드튜플안에 선언을 한뒤 해당 네임드튜플을 상속받아서 추가적인 메서드를 구현할 수도 있다.<br>\n",
    "네임드 튜플은 데이터를 잘 구조화하여 코드를 정돈하고 코드의 가독성을 높이는 역할을 하게 도와주는 유용한 도구이다.<br>\n",
    "딕셔너리보다 프로그래머가 명확한 의도를 네임드튜플을 통해서 코드를 읽는사람에게 전달해줄수도 있다.<br>"
   ]
  },
  {
   "cell_type": "markdown",
   "metadata": {},
   "source": [
    "# 클래스 변수와 인스턴스 변수\n",
    "\n",
    ">파이썬에서는 클래스 메서드와 인스턴스 메서드를 구분하는 것외에도 클래스와 인스턴스의 변수를 구별한다.\n",
    "* 클래스 변수는 클래스 정의 안에(그러나 인스턴스 메서드 밖에) 선언된다. 이 변수는 특정 클래스 인스턴스에 묶여 있지 않다. 대신 클래스 자체에 내용을 저장하고, 같은 클래스에서 생성된 모든 객체는 동일한 클래스 변수 집합을 __공유__ 한다. 즉 모든 인스턴스 객체가 동일한 클래스 변수의 값을 불러오고 사용하게 된다.\n",
    "* 인스턴스 변수는 특정 인스턴스가 생성될때 해당 인스턴스에 할당되는 변수로 클래스에 저장되지 않고 클래스에서 생성된 개별 객체에 저장되어서 독립적으로 사용되고 변경된다.\n",
    "> 이때 클래스 변수와 동일한 이름을 가진인스턴스 변수를 사용하게 되면, 객체내에 동일한 이름을 가진 새로운 인스턴스 변수가 생성되게 되며,<br> 이는 프로그래머가 예상하지 못하는 문제를 일으킬 위험이 있기 때문에 지양하여야 한다."
   ]
  },
  {
   "cell_type": "markdown",
   "metadata": {},
   "source": [
    "# 클래스메서드 정적메서드 인스턴스 메서드\n",
    "\n",
    ">아래의 코드를 통해서 인스턴스 메서드와 클래스 메서드 정적메서드의 차이를 확인하자"
   ]
  },
  {
   "cell_type": "code",
   "execution_count": 36,
   "metadata": {},
   "outputs": [],
   "source": [
    "class MyClass:\n",
    "    def method(self):\n",
    "        return 'instance method called',self\n",
    "    \n",
    "    @classmethod\n",
    "    def classmethod(cls):\n",
    "        return 'class method clalled',cls\n",
    "    \n",
    "    @staticmethod\n",
    "    def staticmethod():\n",
    "        return 'static method called'"
   ]
  },
  {
   "cell_type": "code",
   "execution_count": 38,
   "metadata": {},
   "outputs": [],
   "source": [
    "c = MyClass()"
   ]
  },
  {
   "cell_type": "code",
   "execution_count": 39,
   "metadata": {},
   "outputs": [
    {
     "data": {
      "text/plain": [
       "('instance method called', <__main__.MyClass at 0x230ad00cf28>)"
      ]
     },
     "execution_count": 39,
     "metadata": {},
     "output_type": "execute_result"
    }
   ],
   "source": [
    "c.method()"
   ]
  },
  {
   "cell_type": "code",
   "execution_count": 40,
   "metadata": {},
   "outputs": [
    {
     "data": {
      "text/plain": [
       "('class method clalled', __main__.MyClass)"
      ]
     },
     "execution_count": 40,
     "metadata": {},
     "output_type": "execute_result"
    }
   ],
   "source": [
    "MyClass().classmethod()"
   ]
  },
  {
   "cell_type": "code",
   "execution_count": 41,
   "metadata": {},
   "outputs": [
    {
     "data": {
      "text/plain": [
       "('class method clalled', __main__.MyClass)"
      ]
     },
     "execution_count": 41,
     "metadata": {},
     "output_type": "execute_result"
    }
   ],
   "source": [
    "MyClass.classmethod()"
   ]
  },
  {
   "cell_type": "code",
   "execution_count": 46,
   "metadata": {},
   "outputs": [
    {
     "data": {
      "text/plain": [
       "'static method called'"
      ]
     },
     "execution_count": 46,
     "metadata": {},
     "output_type": "execute_result"
    }
   ],
   "source": [
    "MyClass.staticmethod()"
   ]
  },
  {
   "cell_type": "markdown",
   "metadata": {},
   "source": [
    "> ## 인스턴스 메서드\n",
    "> 위 코드의 첫번째 메서드인 method는 인스턴스 메서드이다.<br>\n",
    "이는 가장 흔하고 군더더기 없는 메서드 타입이다.<br>\n",
    "입력인자로 인스턴스를 가르키는 self를 받고 필요시 매개변수를 추가하여서 기능을 작성할 수 있다.<br>\n",
    "\n",
    "> ## 클래스 메서드\n",
    "> 두번째 메서드인 classmethod는 @classmethod 데코레이터를 통해서 해당 메서드가 클래스 메서드임을 명시했다.<br>\n",
    "클래스 메서드는 인스턴스 메서드의 입력인자로 받는 self대신에 클래스를 가리키는 cls라는 매개변수를 사용한다.<br>\n",
    "이때 cls 인자에만 접근할 수 있기 때문에 객체 인스턴스의 상태는 수정할 수 없다.<br>\n",
    "즉 self에 접근 할 수 있어야 한다. 하지만 클래스의 모든 인스턴스에 적용되는 클래스 상태를 수정할 수 있다.\n",
    "\n",
    "> ## 정적 메서드\n",
    "> 세번쨰 메서드인 staticmethod는 @staticmethod 데코레이터를 통해서 해당 메서드가 정적 메서드임을 명시했다.<br>\n",
    "정적 메서드는 임의 개수의 매개 변수를 받아 들일수 있지만 인스턴스 메서드의 self와 클래스 메서드의 cls와 같이 반드시 필요한 매개변수가 없다.<br>\n",
    "따라서 정적 메서드는 객체 상태나 클래스 상태를 수정할 수 없다.<br>\n",
    "즉 정적 메서드는 접근할 수 있는 데이터가 제한되며 (인스턴스 변수에 조차 접근이 불가능하다)<br>\n",
    "주로 네임스페이스를 해당 클래스로 한정하는 용도로 사용된다."
   ]
  },
  {
   "cell_type": "markdown",
   "metadata": {},
   "source": [
    "> 정적 메서드는 self와 cls를 입력인자로 받지 않기 때문에, 클래스 또는 인스턴스의 상태에 접근할 수 없다<br>\n",
    "한편으로는 특정한 메서드가 주변의 다른 모든것과 독립적이게 정의 할 수 있게 만들 수 있다.<br>\n",
    "즉 클래스 메서드와 정적메서드를 사용하는 것은 다른 동료 프로그래머에게 말로 전달하지 않고도 프로그래머의 의도를 전달해주는<br>\n",
    "매개체로서 역하을 하게 할 수 있다. 이를 통해서 코드의 유지 보수가 더욱 좋아지며<br>\n",
    "다른 개발자가 클래스를 잘못 사용할 가능성 역시 줄어들게 된다."
   ]
  },
  {
   "cell_type": "code",
   "execution_count": null,
   "metadata": {},
   "outputs": [],
   "source": []
  }
 ],
 "metadata": {
  "kernelspec": {
   "display_name": "Python 3",
   "language": "python",
   "name": "python3"
  },
  "language_info": {
   "codemirror_mode": {
    "name": "ipython",
    "version": 3
   },
   "file_extension": ".py",
   "mimetype": "text/x-python",
   "name": "python",
   "nbconvert_exporter": "python",
   "pygments_lexer": "ipython3",
   "version": "3.7.3"
  }
 },
 "nbformat": 4,
 "nbformat_minor": 2
}
