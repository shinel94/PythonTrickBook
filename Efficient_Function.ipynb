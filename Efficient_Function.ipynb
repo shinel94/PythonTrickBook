{
 "cells": [
  {
   "cell_type": "markdown",
   "metadata": {},
   "source": [
    "# 함수의 특징\n",
    "\n",
    "> 파이썬의 함수(def로 정의되는 function)은 일급 객체(first-class object)라고 불리고 이는 <br>\n",
    "> 변수를 할당하고 데이터 구조에 저장하고 인자로 다른 함수에 전달하고 다른 함수의 값에서 반환 될수도 있다.<br>\n",
    "> 즉 함수가 기능하면서 변수를 할당할 수 있으며, 필요한 메모리 공간에 원하는 정보를 저장할 수 있고,<br>\n",
    "> 입력과 출력을 통해서 다른 함수에 전달해줄 수 있고, 또는 다른 함수의 반환값으로써 사용이 가능하다.<br>\n",
    "> lambda 표현과 데코레이터 표현을 이해하기 위해서 위의 내용을 선행해서 이해해야 한다.<br>\n",
    "> 아래의 파이썬 함수예제를 통해서 연습할 수 있다.<br>"
   ]
  },
  {
   "cell_type": "markdown",
   "metadata": {},
   "source": [
    "> ## 함수는 객체다"
   ]
  },
  {
   "cell_type": "code",
   "execution_count": 15,
   "metadata": {},
   "outputs": [
    {
     "data": {
      "text/plain": [
       "'HELLO!'"
      ]
     },
     "execution_count": 15,
     "metadata": {},
     "output_type": "execute_result"
    }
   ],
   "source": [
    "def yell(txt):\n",
    "    return txt.upper() + '!'\n",
    "yell('hello')"
   ]
  },
  {
   "cell_type": "markdown",
   "metadata": {},
   "source": [
    "> 위와 같이 함수가 정의될때 파이썬에서는 함수는 객체 또는 개체 간의 관계로 표현된다. <br>\n",
    "즉 문자열, 리스트, 모듈 및 함수 같은 파이썬 내의 모든 것들은 객체로서 형성이 된다.<br>\n",
    "함수도 같이 특별함 없는 객체일 뿐이다."
   ]
  },
  {
   "cell_type": "code",
   "execution_count": 12,
   "metadata": {},
   "outputs": [],
   "source": [
    "back = yell"
   ]
  },
  {
   "cell_type": "markdown",
   "metadata": {},
   "source": [
    "> 위와 같이 정의된 함수는 객체이기 때문에 다른 변수에 할당할 수 있다.<br>\n",
    "이때 함수가 할당될때는 함수가 따로 호출되지 않고, yell함수 정의자체를 back에 할당하게 된다.<br>\n",
    "즉 back이 yelll과 같은 기능을 하는 새로운 함수로 정의되는 것이다."
   ]
  },
  {
   "cell_type": "code",
   "execution_count": 13,
   "metadata": {},
   "outputs": [
    {
     "data": {
      "text/plain": [
       "'HELLO!'"
      ]
     },
     "execution_count": 13,
     "metadata": {},
     "output_type": "execute_result"
    }
   ],
   "source": [
    "back('hello')"
   ]
  },
  {
   "cell_type": "markdown",
   "metadata": {},
   "source": [
    "> 이때 함수 객체와 함수 이름은 별개다. 아래와 같이 함수 이름 yell을 삭제하면 yell로 정의된 함수는 호출이 불가능 하나<br>\n",
    "back으로 할당된 함수는 호출이 가능하다.<br>\n",
    "이때 back.\\_\\_name\\_\\_을 통해서 name속성을 확인하면 이는 yell을 가리키는 것을 볼 수 있다.<br>\n",
    "즉 함수 이름을 가진 변수를 제거하는 것이고 정의된 함수의 표현이 제거되지는 않는다."
   ]
  },
  {
   "cell_type": "code",
   "execution_count": 16,
   "metadata": {},
   "outputs": [
    {
     "name": "stdout",
     "output_type": "stream",
     "text": [
      "NameError가 발생했습니다.\n"
     ]
    },
    {
     "data": {
      "text/plain": [
       "'yell'"
      ]
     },
     "execution_count": 16,
     "metadata": {},
     "output_type": "execute_result"
    }
   ],
   "source": [
    "del yell\n",
    "try:\n",
    "    yell('hey')\n",
    "except NameError:\n",
    "    print('NameError가 발생했습니다.')\n",
    "back('hey')\n",
    "back.__name__"
   ]
  },
  {
   "cell_type": "markdown",
   "metadata": {},
   "source": [
    ">이때 name에 할당된 것은 프로그래머가 디버깅을 하기위한 이름일 뿐이다.<br>\n",
    "즉 함수를 가르키는 변수와 함수 자체는 별개로 구성된다."
   ]
  },
  {
   "cell_type": "markdown",
   "metadata": {},
   "source": [
    "> ## 함수는 데이터 구조(리스트,튜플,딕셔너리,etc)에 저장할 수 있다.<br>\n",
    "> 파이썬은 first-class object이기 때문에 다른 객체와 같이 함수를 데이터 구조에 저장이 가능하다.<br>\n",
    "호출할때는 리스트의 인덱스를 통해서 함수를 호출하게 되면, 하나의 함수와 동일한 방식으로 호출이 가능하다.<br>"
   ]
  },
  {
   "cell_type": "code",
   "execution_count": 23,
   "metadata": {},
   "outputs": [
    {
     "data": {
      "text/plain": [
       "[<function __main__.yell(txt)>,\n",
       " <method 'lower' of 'str' objects>,\n",
       " <method 'capitalize' of 'str' objects>]"
      ]
     },
     "execution_count": 23,
     "metadata": {},
     "output_type": "execute_result"
    }
   ],
   "source": [
    "func = [back,str.lower,str.capitalize]\n",
    "func"
   ]
  },
  {
   "cell_type": "code",
   "execution_count": 24,
   "metadata": {},
   "outputs": [
    {
     "name": "stdout",
     "output_type": "stream",
     "text": [
      "<function yell at 0x000001949360B0D0> HEY THERE!\n",
      "<method 'lower' of 'str' objects> hey there\n",
      "<method 'capitalize' of 'str' objects> Hey there\n"
     ]
    }
   ],
   "source": [
    "for f in func:\n",
    "    print(f,f('hey there'))"
   ]
  },
  {
   "cell_type": "markdown",
   "metadata": {},
   "source": [
    "> 위와 같이 리스트에 할당을 하고 하나씩 호출하는 것이 가능하며,<br>\n",
    "호출 될때는 하나의 함수를 호출하는 것과 같은 방식으로 호출이 된다."
   ]
  },
  {
   "cell_type": "markdown",
   "metadata": {},
   "source": [
    "> ## 함수는 다른 함수의 입력인자로 전달이 가능하다.<br>\n",
    "> 이 기능을 통해서 함수를 수행하는 동작을 추상화해서 전달할 수 있게 한다. <br>\n",
    "> 아래와 같은 예제를 통해서 함수는 동일 하지만 다른 동작을 하여서 출력에 영향을 미칠 수 있다."
   ]
  },
  {
   "cell_type": "code",
   "execution_count": 25,
   "metadata": {},
   "outputs": [],
   "source": [
    "def greet(func):\n",
    "    greeting = func('Hi, I am a Python program')\n",
    "    print(greeting)"
   ]
  },
  {
   "cell_type": "code",
   "execution_count": 27,
   "metadata": {},
   "outputs": [
    {
     "name": "stdout",
     "output_type": "stream",
     "text": [
      "HI, I AM A PYTHON PROGRAM!\n"
     ]
    }
   ],
   "source": [
    "greet(back)"
   ]
  },
  {
   "cell_type": "code",
   "execution_count": 30,
   "metadata": {},
   "outputs": [
    {
     "name": "stdout",
     "output_type": "stream",
     "text": [
      "hi, i am a python program\n"
     ]
    }
   ],
   "source": [
    "greet(lambda x: x.lower())"
   ]
  },
  {
   "cell_type": "markdown",
   "metadata": {},
   "source": [
    "> 위와 같이 lambda표현을 사용하여서 func에 바로 할당을 할 수도 있으며,<br>\n",
    "비슷한 기능을 하지만 다른 출력을 가지는 함수를 정의 할 수 있다.<br>\n",
    "이때 다른 함수를 인자로 받는 함수 위의 예제에서는 greet이 고차함수(higher-order function)이라고 불린다.<br>\n",
    "가장 전형적인 예시는 내장된 map함수이다. map함수의 첫번째 인자는 두번째 인자가 처리될 함수가 입력되어야 하며<br>\n",
    "두번째 인자가 리스트타입일 경우 하나씩 입력을 하고 같은 길이를 가진 리스트를 반환하게 된다.<br>"
   ]
  },
  {
   "cell_type": "markdown",
   "metadata": {},
   "source": [
    "> ## 함수는 중첩될 수 있다.<br>\n",
    "> 파이썬의 함수를 정의할때 함수 안에도 새로운 함수를 정의할 수 있다.<br>\n",
    "> 이때 함수 내부에 정의된 함수는 상위 함수가 호출 될때마다 새롭게 정의되고 즉시 호출된다.<br>\n",
    "> 즉 함수 내부에 정의된 함수는 해당 함수 안에서만 호출이 가능하며 함수 외부에서는 호출이 불가능하다.<br>"
   ]
  },
  {
   "cell_type": "code",
   "execution_count": 33,
   "metadata": {},
   "outputs": [
    {
     "data": {
      "text/plain": [
       "'yo...'"
      ]
     },
     "execution_count": 33,
     "metadata": {},
     "output_type": "execute_result"
    }
   ],
   "source": [
    "def speak(txt):\n",
    "    def whisper(t):\n",
    "        return t.lower() + '...'\n",
    "    return whisper(txt)\n",
    "speak('Yo')"
   ]
  },
  {
   "cell_type": "markdown",
   "metadata": {},
   "source": [
    "> 이때 함수내부에 정의된 함수를 호출하기 위해서는 함수의 반환을 내부에 정의된 함수로 설정하게 되면<br>\n",
    "함수 회부에서도 호출이 가능하다.<br>"
   ]
  },
  {
   "cell_type": "code",
   "execution_count": 37,
   "metadata": {},
   "outputs": [],
   "source": [
    "def get_speak_func(vol):\n",
    "    def whisper(txt):\n",
    "        return txt.lower() + '...'\n",
    "    def yell(txt):\n",
    "        return txt.upper() + '!'\n",
    "    if vol > 0.5:\n",
    "        return yell\n",
    "    else:\n",
    "        return whisper"
   ]
  },
  {
   "cell_type": "code",
   "execution_count": 38,
   "metadata": {},
   "outputs": [],
   "source": [
    "x = get_speak_func(0.7)\n",
    "y = get_speak_func(0.3)"
   ]
  },
  {
   "cell_type": "code",
   "execution_count": 39,
   "metadata": {},
   "outputs": [
    {
     "data": {
      "text/plain": [
       "'HELLO!'"
      ]
     },
     "execution_count": 39,
     "metadata": {},
     "output_type": "execute_result"
    }
   ],
   "source": [
    "x('Hello')\n"
   ]
  },
  {
   "cell_type": "code",
   "execution_count": 40,
   "metadata": {},
   "outputs": [
    {
     "data": {
      "text/plain": [
       "'hello...'"
      ]
     },
     "execution_count": 40,
     "metadata": {},
     "output_type": "execute_result"
    }
   ],
   "source": [
    "y('Hello')"
   ]
  },
  {
   "cell_type": "markdown",
   "metadata": {},
   "source": [
    "> 위와 같은 방식으로 함수내부에 정의된 함수를 호출이 가능하다.<br>\n",
    "즉 함수가 인자를 통해서 동작(함수,기능)을 전달 해 줄수있고, 동작 자체를 반환할 수 있다."
   ]
  },
  {
   "cell_type": "markdown",
   "metadata": {},
   "source": [
    "> ## 함수는 지역 상태를 인식 할 수 있다.<br>\n",
    "> 함수가 내부 함수를 포함할 수 있으며, 내부에 정의되어서 숨겨진 함수를 반환하는 부모 함수를 생성 할 수 있다.<br>\n",
    "> 함수는 다른 함수를 반환할 수 있을 뿐 아니라 이러한 내부 함수는 부모 함수의 상태를 포착해서 전달 할 수 있다.<br>\n",
    "> 즉 부모함수 내부에 정의된 함수에서 부모함수의 입력인자를 사용하는 내부 함수를 정의하게 되면<br>\n",
    "> 내부에 정의된 함수에 변수를 선언하지 않더라도 데이터에 접근이 가능하며, <br>\n",
    "> 추가적으로 데이터를 메모리에 할당하지 않아도 자동으로 기억하게 된다. <br>\n",
    "> 이기능을 lexical closure라고 부르며 짧게 클로져라고 부른다.<br>\n",
    "> 다음과 같은 예를 통해서 확인이 가능하다."
   ]
  },
  {
   "cell_type": "code",
   "execution_count": 41,
   "metadata": {},
   "outputs": [],
   "source": [
    "def make_adder(n):\n",
    "    def add(x):\n",
    "        return x + n\n",
    "    return add"
   ]
  },
  {
   "cell_type": "code",
   "execution_count": 42,
   "metadata": {},
   "outputs": [],
   "source": [
    "plus_3 = make_adder(3)\n",
    "plus_5 = make_adder(5)"
   ]
  },
  {
   "cell_type": "code",
   "execution_count": 43,
   "metadata": {},
   "outputs": [
    {
     "data": {
      "text/plain": [
       "7"
      ]
     },
     "execution_count": 43,
     "metadata": {},
     "output_type": "execute_result"
    }
   ],
   "source": [
    "plus_3(4)"
   ]
  },
  {
   "cell_type": "code",
   "execution_count": 44,
   "metadata": {},
   "outputs": [
    {
     "data": {
      "text/plain": [
       "9"
      ]
     },
     "execution_count": 44,
     "metadata": {},
     "output_type": "execute_result"
    }
   ],
   "source": [
    "plus_5(4)"
   ]
  },
  {
   "cell_type": "markdown",
   "metadata": {},
   "source": [
    "> 위와 같이 처음 선언할때 같은 기능을 하지만 n과 같이 특정 변수들만 다른 동일 함수를 정의할때 유용하다.<br>"
   ]
  },
  {
   "cell_type": "markdown",
   "metadata": {},
   "source": [
    "> ## 객체는 함수처럼 동작할 수 있다.<br>\n",
    "> 파이썬의 모든 함수는 객체이지만, 모든 객체는 당연히 함수가 아니다.<br>\n",
    "> 그러나 객체 내부에 \\_\\_call\\_\\_를 정의하면 객체를 둥근 괄호 형식을 가지는 함수 호출 문법을 사용해서 인자를 전달 할 수 있다."
   ]
  },
  {
   "cell_type": "code",
   "execution_count": 45,
   "metadata": {},
   "outputs": [],
   "source": [
    "class Adder:\n",
    "    def __init__(self,n):\n",
    "        self.n = n\n",
    "    def __call__(self,x):\n",
    "        return self.n+x"
   ]
  },
  {
   "cell_type": "code",
   "execution_count": 46,
   "metadata": {},
   "outputs": [
    {
     "data": {
      "text/plain": [
       "7"
      ]
     },
     "execution_count": 46,
     "metadata": {},
     "output_type": "execute_result"
    }
   ],
   "source": [
    "plus_3 = Adder(3)\n",
    "plus_3(4)"
   ]
  },
  {
   "cell_type": "markdown",
   "metadata": {},
   "source": [
    ">위와 같이 클로져 함수와 동일한 기능을 가진 객체를 생성 할 수 있다.<br>\n",
    "그리고 객체가 호출이 가능한지는 내장함수 callable()를 통해서 호출이 가능하다."
   ]
  },
  {
   "cell_type": "markdown",
   "metadata": {},
   "source": [
    "# 람다 표현식\n",
    "> 파이썬의 lambda 키워드는 작은 익명의 함수를 선언할때, 즉 단일 표현식 함수를 선언할때 사용하는 손쉬운 방법이다.<br>\n",
    "람다(lambda)함수는 def 키워드로 선언된 일반 함수처럼 작동하며 객체가 필요할 때마다 사용할 수 있다.<br>\n",
    "이때 람다로 선언된 함수는 함수를 선언하는 동시에 호출하는 인라인으로 기능하게 할 수 있다.<br>\n",
    "함수 객체를 이름에 바인딩 할 필요가 없어진다.<br>"
   ]
  },
  {
   "cell_type": "code",
   "execution_count": 47,
   "metadata": {},
   "outputs": [
    {
     "data": {
      "text/plain": [
       "8"
      ]
     },
     "execution_count": 47,
     "metadata": {},
     "output_type": "execute_result"
    }
   ],
   "source": [
    "(lambda x,y:x+y)(5,3)"
   ]
  },
  {
   "cell_type": "markdown",
   "metadata": {},
   "source": [
    ">위와 같이 더하는 함수를 새로운 이름으로 정의할 필요가 없어진다.<br>\n",
    "람다는 단일표현식으로 제한되면 명령문(statement)나 주석을 사용할 수 없고, return역시 사용할 수 없다.<br>\n",
    "람다 함수는 실행을 하면 표현식을 평가(실행)한 다음 표현식의 결과를 자동으로 반환하는<br>\n",
    "암시적인 반환구문이 있기 때문에, 단일 표현식 함수라고 부르는 사람들이 있다."
   ]
  },
  {
   "cell_type": "markdown",
   "metadata": {},
   "source": [
    "> ## 람다를 사용할 수 있는 경우<br>\n",
    "> 람다함수는 익명함수로서 이름을 부여할 필요가 없는 함수 인자를 필요로 하는 경우 사용할 수 있다.<br>\n",
    "즉 람다는 함수를 정의하는 데 편리하고 '비격식적인' 지름길을 제공한다.<br>\n",
    "그리고 람다함수는 추가적으로 클로져로서 사용하는데 유용하다.<br>\n",
    "위의 make_adder함수를 새롭게 람다표현식을 이용해서 정의하면 다음과 같다."
   ]
  },
  {
   "cell_type": "code",
   "execution_count": 48,
   "metadata": {},
   "outputs": [],
   "source": [
    "def make_adder(n):\n",
    "    return lambda x: x+n\n",
    "plus_3 = make_adder(3)\n",
    "plus_5 = make_adder(5)"
   ]
  },
  {
   "cell_type": "code",
   "execution_count": 49,
   "metadata": {},
   "outputs": [
    {
     "data": {
      "text/plain": [
       "7"
      ]
     },
     "execution_count": 49,
     "metadata": {},
     "output_type": "execute_result"
    }
   ],
   "source": [
    "plus_3(4)"
   ]
  },
  {
   "cell_type": "code",
   "execution_count": 50,
   "metadata": {},
   "outputs": [
    {
     "data": {
      "text/plain": [
       "9"
      ]
     },
     "execution_count": 50,
     "metadata": {},
     "output_type": "execute_result"
    }
   ],
   "source": [
    "plus_5(4)"
   ]
  },
  {
   "cell_type": "markdown",
   "metadata": {},
   "source": [
    "> ## 람다 함수를 자제해야 하는 경우<br>\n",
    "> 멋지게 보이는 코드를 작성하기 위해서 람다 함수를 함수로 정의할 수 있지만 <br>\n",
    "> 혼자 작성하는 코드가 하닌 함께 작성하는 코드를 작성할때는 함수가 명확하게 인식되지 않는 문제가 발생할 수 있다.<br>\n",
    "> 즉 유지보수를 잘 수행 할 수 있는 코드를 작성하는데 지장이 없는 선에서만 적용을 하여야 한다.<br>\n",
    "> 또한 map()나 filter()구조에서 사용되는 람다함수는 리스트 내포식(list comprehension)이나 제네레이터로 표현하는 것이 낫다.<br>\n",
    "> 아래의 예제에서 처음 코드보다는 후자의 코드로 작성하는 것이 좋다.<br>\n",
    "> 또한 람다 표현식을 통해서 복잡한 작업을 하게 된다면 적절한 이름을 부여해서 독립형 함수를 정의하는 것이 좋다.<br>\n",
    "> 작성자의 타이핑을 줄이는 것보다 동료 프로그래머(미래의 자신을 포함한)가 이해하기 쉽고 읽기 쉬운 코드를 작성하는 것이 중요하다."
   ]
  },
  {
   "cell_type": "code",
   "execution_count": 52,
   "metadata": {},
   "outputs": [
    {
     "name": "stdout",
     "output_type": "stream",
     "text": [
      "[0, 2, 4, 6, 8, 10, 12, 14]\n",
      "[0, 2, 4, 6, 8, 10, 12, 14]\n"
     ]
    }
   ],
   "source": [
    "x = list(filter(lambda x: x%2 == 0,range(16))) # 이 코드보다는\n",
    "y = [x for x in range(16) if x % 2 == 0] # 이 코드가 보다 명확하고 좋다.\n",
    "print(x)\n",
    "print(y)"
   ]
  },
  {
   "cell_type": "markdown",
   "metadata": {},
   "source": [
    "# 데코레이터의 힘\n",
    "> 파이썬의 코어에서 데코레이터는 호출 가능 객체(함수, 메서드, 클래스(\\_\\_name\\_\\_이 구현된 클래스))에 대해서 영구적으로 수정하지 않고 그 동작을 확장 수정할 수 있게 해준다.<br>\n",
    "> 기존 클래스나 함수의 동작에 일반적인 기능을 덧붙이고 싶을 때 데코레이터가 유용하다. 다음과 같은 예가 있다.\n",
    "* 로그 남기기\n",
    "* 접근 제어와 인증 시행\n",
    "* 계측 및 시간 측정\n",
    "* 비율 제한\n",
    "* 캐싱 및 기타\n",
    "\n",
    ">데코레이터를 이해하기 위해서는 다음 두가지 개념을 이해해야 한다.<br>\n",
    "* 함수는 객체다: 변수에 할당되고 다른 함수로 전달되거나 다른 함수로부터 반환될 수 있다.\n",
    "* 함수는 다른 함수 내부에서 정의될 수 있다: 자식 함수는 부모 함수의 로컬 상태를 포착할 수 있다(클로저).\n",
    "\n",
    "> ## 파이썬 데코레이터 기초<br>\n",
    "> 데코레이터라 함은 다른 호출가능한 함수를 '장식'하거나 '포장'하고, 감싼 함수가 실행되기 전과 후에 다른 코드를 실행할 수 있게 한다.<br>\n",
    "> 그리고 감싼 함수 자체를 영구적으로 수정하지 않아도 되며, 장식되지 않았을 경우 원래의 기능을 나타내게 된다.즉 장식이 되었을때만 기능이 바뀐다.<br>\n",
    "> 기본적으로 데코레이터는 호출 가능 객체를 입력받아 다른 호출 가능 객체를 반환하는 호출 가능 객체다."
   ]
  },
  {
   "cell_type": "code",
   "execution_count": 55,
   "metadata": {},
   "outputs": [
    {
     "name": "stdout",
     "output_type": "stream",
     "text": [
      "Hello!\n",
      "Hello!\n"
     ]
    }
   ],
   "source": [
    "def null_decorator(func):\n",
    "    return func\n",
    "def greet():\n",
    "    return 'Hello!'\n",
    "print(greet())\n",
    "greet = null_decorator(greet)\n",
    "print(greet())"
   ]
  },
  {
   "cell_type": "markdown",
   "metadata": {},
   "source": [
    "> 위와 같은 방식으로 데코레이터를 적용하는것은 효율적이지 않다.<br>\n",
    "@표현 구문을 통해서 보다 편리하게 데코레이터를 적용할 수 있다."
   ]
  },
  {
   "cell_type": "code",
   "execution_count": 56,
   "metadata": {},
   "outputs": [
    {
     "data": {
      "text/plain": [
       "'Hello!'"
      ]
     },
     "execution_count": 56,
     "metadata": {},
     "output_type": "execute_result"
    }
   ],
   "source": [
    "@null_decorator\n",
    "def greet():\n",
    "    return 'Hello!'\n",
    "greet()"
   ]
  },
  {
   "cell_type": "markdown",
   "metadata": {},
   "source": [
    ">즉 함수를 @표현식 안의 데코레이터는 바로 다음의 def문의 함수가 정의된 다음에 데코레이터가 적용되게 된다.<br>\n",
    "간편 문법인 @ 구문은 널리 활용되는 이 패턴을 간편하게 적용할 수 있는 지름길이다.<br>\n",
    "@ 구문을 사용하면 정의 시간에 즉시 함수가 장식된다.<br>\n",
    "그리고 이는 함수의 데코레이터가 적용되기 전인 원래 함수에 접근하는데 보안을 줄 수 있다.<br>\n",
    "\n",
    "> ## 데코레이터는 함수의 동작을 수정할 수 있다.<br>\n",
    ">아래와 같이 데코레이터를 통해서 기능을 고칠때는 @구문 표혀늘 작성할때와 함수로서 변형하는 것은 다른 결과값을 반환한다."
   ]
  },
  {
   "cell_type": "code",
   "execution_count": 68,
   "metadata": {},
   "outputs": [],
   "source": [
    "def uppercase(func):\n",
    "    def wrapper():\n",
    "        original_result = func()\n",
    "        modified_result = original_result.upper()\n",
    "        return modified_result\n",
    "    return wrapper"
   ]
  },
  {
   "cell_type": "code",
   "execution_count": 65,
   "metadata": {},
   "outputs": [],
   "source": [
    "def greet():\n",
    "    return 'Hello!'"
   ]
  },
  {
   "cell_type": "code",
   "execution_count": 59,
   "metadata": {},
   "outputs": [
    {
     "data": {
      "text/plain": [
       "'Hello!'"
      ]
     },
     "execution_count": 59,
     "metadata": {},
     "output_type": "execute_result"
    }
   ],
   "source": [
    "greet()"
   ]
  },
  {
   "cell_type": "code",
   "execution_count": 66,
   "metadata": {},
   "outputs": [
    {
     "data": {
      "text/plain": [
       "<function __main__.greet()>"
      ]
     },
     "execution_count": 66,
     "metadata": {},
     "output_type": "execute_result"
    }
   ],
   "source": [
    "greet"
   ]
  },
  {
   "cell_type": "code",
   "execution_count": 70,
   "metadata": {},
   "outputs": [
    {
     "data": {
      "text/plain": [
       "<function __main__.uppercase.<locals>.wrapper()>"
      ]
     },
     "execution_count": 70,
     "metadata": {},
     "output_type": "execute_result"
    }
   ],
   "source": [
    "uppercase(greet)"
   ]
  },
  {
   "cell_type": "code",
   "execution_count": 72,
   "metadata": {},
   "outputs": [],
   "source": [
    "@uppercase\n",
    "def greet():\n",
    "    return 'Hello!'"
   ]
  },
  {
   "cell_type": "markdown",
   "metadata": {},
   "source": [
    "> 이때 데코레이터 함수는 @구문으로 쌓일때 스택과 같은 방식으로 가장 마지막에 정의된 것부터 하나씩 장식된다."
   ]
  },
  {
   "cell_type": "code",
   "execution_count": 74,
   "metadata": {},
   "outputs": [],
   "source": [
    "def strong(func):\n",
    "    def wrapper():\n",
    "        return '<strong>' + func() + '</strong>'\n",
    "    return wrapper\n",
    "def emphasis(func):\n",
    "    def wrapper():\n",
    "        return '<em>' + func() + '</em>'\n",
    "    return wrapper"
   ]
  },
  {
   "cell_type": "code",
   "execution_count": 76,
   "metadata": {},
   "outputs": [],
   "source": [
    "@strong\n",
    "@emphasis\n",
    "def greet():\n",
    "    return 'Hello!'"
   ]
  },
  {
   "cell_type": "markdown",
   "metadata": {},
   "source": [
    "> ## 인자를 받는 함수 장식하기\n",
    "> 인자를 취하는 함수에 데코레이터를 적용할때는 \\*args와 \\*\\*kwargs를 통해서 편리하게 적용할 수 있다>"
   ]
  },
  {
   "cell_type": "code",
   "execution_count": 79,
   "metadata": {},
   "outputs": [],
   "source": [
    "def proxy(func):\n",
    "    def wrapper(*args,**kwargs):\n",
    "        return func(*args,**kwargs)\n",
    "    return wrapper"
   ]
  },
  {
   "cell_type": "markdown",
   "metadata": {},
   "source": [
    ">wrapper의 \\*과 \\*\\*에는 입력 인자들중에서 위치 및 키워드 인자를 수집해서 args와 kwargs에 저장하게 되며\n",
    "func안의 \\*와 \\*\\*는 각각 인자 풀기 연산을 이용해서 변수를 원래 입력함수처럼 하나씩 나열하게 한다.\n",
    "아래와 같은 방식으로 작동하는 예제를 만들 수 있다."
   ]
  },
  {
   "cell_type": "code",
   "execution_count": 92,
   "metadata": {},
   "outputs": [],
   "source": [
    "def trace(func):\n",
    "    def wrapper(*args,**kwargs):\n",
    "        print(f'TRACE: calling {func.__name__}() '\n",
    "             f'with {args}, {kwargs}')\n",
    "        original_result = func(*args,**kwargs)\n",
    "        print(f'TRACE: {func.__name__}() '\n",
    "             f'returned {original_result!r}')\n",
    "        return original_result\n",
    "    return wrapper"
   ]
  },
  {
   "cell_type": "code",
   "execution_count": 93,
   "metadata": {},
   "outputs": [],
   "source": [
    "@trace\n",
    "def say(name,line):\n",
    "    return f'{name}: {line}'"
   ]
  },
  {
   "cell_type": "code",
   "execution_count": 94,
   "metadata": {},
   "outputs": [
    {
     "name": "stdout",
     "output_type": "stream",
     "text": [
      "TRACE: calling say() with ('Jane', 'Hello, World'), {}\n",
      "TRACE: say() returned 'Jane: Hello, World'\n"
     ]
    },
    {
     "data": {
      "text/plain": [
       "'Jane: Hello, World'"
      ]
     },
     "execution_count": 94,
     "metadata": {},
     "output_type": "execute_result"
    }
   ],
   "source": [
    "say('Jane','Hello, World')"
   ]
  },
  {
   "cell_type": "markdown",
   "metadata": {},
   "source": [
    "> ## 디버깅 가능한 데코레이터 작성법<br>\n",
    "> 데코레이터를 사용하면 함수에 정의된 독스트링과 같은 데이터가 더이상 접근 할 수 없게 된다. <br>\n",
    "이를 막기위해서 functools의 wraps메소드를 사용하면 데코레이터가 씌워질 함수에 정의된 독스트링을 데코레이트가 적용된 함수에서도 적용하여<br>\n",
    "원래 함수의 독스트링을 접근하게 할 수 있다."
   ]
  },
  {
   "cell_type": "code",
   "execution_count": 95,
   "metadata": {},
   "outputs": [],
   "source": [
    "import functools\n",
    "def uppercase(func):\n",
    "    @functools.wraps(func)\n",
    "    def wrapper():\n",
    "        return func().upper()\n",
    "    return wrapper"
   ]
  },
  {
   "cell_type": "code",
   "execution_count": 96,
   "metadata": {},
   "outputs": [],
   "source": [
    "@uppercase\n",
    "def greet():\n",
    "    '''return a friendly greeting.'''\n",
    "    return 'Hello!'"
   ]
  },
  {
   "cell_type": "code",
   "execution_count": 98,
   "metadata": {},
   "outputs": [
    {
     "data": {
      "text/plain": [
       "'greet'"
      ]
     },
     "execution_count": 98,
     "metadata": {},
     "output_type": "execute_result"
    }
   ],
   "source": [
    "greet.__name__"
   ]
  },
  {
   "cell_type": "code",
   "execution_count": 99,
   "metadata": {},
   "outputs": [
    {
     "data": {
      "text/plain": [
       "'retrun a friendly greeting.'"
      ]
     },
     "execution_count": 99,
     "metadata": {},
     "output_type": "execute_result"
    }
   ],
   "source": [
    "greet.__doc__"
   ]
  },
  {
   "cell_type": "markdown",
   "metadata": {},
   "source": [
    "> 데코레이터는 함수를 수정하지 않고 추가적으로 부가적인 기능을 추가할때 사용하는 방식으로 @구문을 통해서 보다 쉽게 적용할 수 있다.<br>\n",
    "하지만 데코레이터 남용은 함수의 유지보수측면에서 함수를 인식하는것을 방해하는 요소로 작용할 수 있기 때문에<br>\n",
    "즉 코드가 끔찍하고 유지가 불가능할 정도로 꼬이는 코드로 만들게 될 위험이 있기 때문에 적절하게 사용하여야 한다."
   ]
  },
  {
   "cell_type": "markdown",
   "metadata": {},
   "source": [
    "# \\*args와 \\*\\*kwargs를 재미있게 활용하기\n",
    "\n",
    ">위에서 설명했듯이 \\*args는 위치 인자를 순서대로 args배열에 저장하게 되고<br>\n",
    "> \\*\\*kwargs는 딕셔너리 타입 즉 키워드 인자로 입력되는 데이터를 kwargs라는 딕셔너리 배열에 키워드 입력인자를 저장하게 된다.<br>\n",
    "아래와 같은 방식으로 사용해서 적용이 가능하다.<br>\n",
    "입력 인자의 이름으로 사용되는 args와 kwargs는 단순한 관례에 불가한 이름이지만<br>\n",
    "통상적으로는 관례를 지키는 것이 좋다."
   ]
  },
  {
   "cell_type": "code",
   "execution_count": 100,
   "metadata": {},
   "outputs": [],
   "source": [
    "def foo(required,*args,**kwargs):\n",
    "    print(required)\n",
    "    if args:\n",
    "        print(args)\n",
    "    if kwargs:\n",
    "        print(kwargs)"
   ]
  },
  {
   "cell_type": "code",
   "execution_count": 102,
   "metadata": {},
   "outputs": [
    {
     "ename": "TypeError",
     "evalue": "foo() missing 1 required positional argument: 'required'",
     "output_type": "error",
     "traceback": [
      "\u001b[1;31m---------------------------------------------------------------------------\u001b[0m",
      "\u001b[1;31mTypeError\u001b[0m                                 Traceback (most recent call last)",
      "\u001b[1;32m<ipython-input-102-8c4630f6b5db>\u001b[0m in \u001b[0;36m<module>\u001b[1;34m\u001b[0m\n\u001b[1;32m----> 1\u001b[1;33m \u001b[0mfoo\u001b[0m\u001b[1;33m(\u001b[0m\u001b[1;33m)\u001b[0m\u001b[1;33m\u001b[0m\u001b[1;33m\u001b[0m\u001b[0m\n\u001b[0m\u001b[0;32m      2\u001b[0m \u001b[1;31m#처럼 required입력인자는 반드시 입력되어야 한다.\u001b[0m\u001b[1;33m\u001b[0m\u001b[1;33m\u001b[0m\u001b[1;33m\u001b[0m\u001b[0m\n",
      "\u001b[1;31mTypeError\u001b[0m: foo() missing 1 required positional argument: 'required'"
     ]
    }
   ],
   "source": [
    "foo()\n",
    "#처럼 required입력인자는 반드시 입력되어야 한다."
   ]
  },
  {
   "cell_type": "code",
   "execution_count": 103,
   "metadata": {},
   "outputs": [
    {
     "name": "stdout",
     "output_type": "stream",
     "text": [
      "hello\n"
     ]
    }
   ],
   "source": [
    "foo('hello')"
   ]
  },
  {
   "cell_type": "code",
   "execution_count": 104,
   "metadata": {},
   "outputs": [
    {
     "name": "stdout",
     "output_type": "stream",
     "text": [
      "hello\n",
      "(1, 2, 3)\n"
     ]
    }
   ],
   "source": [
    "foo('hello',1,2,3,)"
   ]
  },
  {
   "cell_type": "code",
   "execution_count": 105,
   "metadata": {},
   "outputs": [
    {
     "name": "stdout",
     "output_type": "stream",
     "text": [
      "hello\n",
      "(1, 2, 3)\n",
      "{'key1': 'value', 'key2': 999}\n"
     ]
    }
   ],
   "source": [
    "foo('hello',1,2,3,key1='value',key2 = 999)"
   ]
  },
  {
   "cell_type": "markdown",
   "metadata": {},
   "source": [
    "# 파이썬의 반환할 것이 없는 경우\n",
    "\n",
    ">파이썬의 경우 반환 할 것이 없는 경우, 즉 return을 선언하지 않는다면, 자동적으로 함수가 끝이날때 None을 반환하게 된다.<br>\n",
    "이때 return을 명시적으로 선언할지 말지는 전적으로 프로그래머의 취향에 따라 달렸다.<br>\n",
    "하지만 명시적인것이 암시적인것보다는 낫다는 전제로는 명시적으로 해주는것이 좋다고 생각한다.<br>"
   ]
  }
 ],
 "metadata": {
  "kernelspec": {
   "display_name": "Python 3",
   "language": "python",
   "name": "python3"
  },
  "language_info": {
   "codemirror_mode": {
    "name": "ipython",
    "version": 3
   },
   "file_extension": ".py",
   "mimetype": "text/x-python",
   "name": "python",
   "nbconvert_exporter": "python",
   "pygments_lexer": "ipython3",
   "version": "3.7.3"
  }
 },
 "nbformat": 4,
 "nbformat_minor": 2
}
