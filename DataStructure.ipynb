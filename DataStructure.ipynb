{
 "cells": [
  {
   "cell_type": "markdown",
   "metadata": {},
   "source": [
    "# 파이썬의 일반 데이터 구조\n",
    "\n",
    ">파이썬의 데이터 구조는 리스트 딕셔너리 세트 그리고 스택 큐 등으로 구성되어 있다.<br>\n",
    ">파이썬과 달리 자바와 같은 다른 언어는 더 컴퓨터 과학적으로 명시적인 명명 체계를 따른다. <br>\n",
    "즉 파이썬의 리스트는 자바에서는 LinkedList 또는 ArrayList라고 불린다.<br>\n",
    "파이써는 더 간단하고 인간적인 명명 체계를 선호하여서 이름이 정해진다.<br>\n",
    "그로 인해서 파이썬 내장 list 타입이 linked list인지 또는 동적 배열로 구현되는지는 명확하게 list만 보고는 알 수 없다."
   ]
  },
  {
   "cell_type": "markdown",
   "metadata": {},
   "source": [
    "# 1. 딕셔너리, 맵, 해시 테이블\n",
    "\n",
    "> 파이썬의 딕셔너리 타입은 임의의 수의 객체를 저장하고 각 각 객체는 고유한 key로 식별이 된다.<br>\n",
    "딕셔너리는 맵(map), 해시맵(hashmap), 조회 테이블(lookup table)또는 연관 배열(associative array)라고도 한다.<br>\n",
    "이 데이터 구조들은 주어진 키와 연관된 모든 객체의 검색, 삽입, 삭제를 효율적으로 수행한다.\n",
    "> ## dict: 믿음직한 딕셔너리\n",
    "> 인덱스로 호출하는 것이 아닌 키라는 특정 이름으로 값을 검색하고 관리할 수 있기 때문에 효율적으로 데이터를 관리하고 처리하는데 <br>\n",
    "아주 중요한 데이터 타입이다. 이를 위해서 파이썬에서 제공하는 hash table 데이터 구조를 가진 것이 dict이다."
   ]
  },
  {
   "cell_type": "code",
   "execution_count": 4,
   "metadata": {},
   "outputs": [
    {
     "name": "stdout",
     "output_type": "stream",
     "text": [
      "{'bob': 7387, 'alice': 3719, 'jack': 7052}\n",
      "{0: 0, 1: 1, 2: 4, 3: 9, 4: 16, 5: 25}\n",
      "7052\n"
     ]
    }
   ],
   "source": [
    "phonebook = {'bob':7387,\n",
    "            'alice':3719,\n",
    "            'jack':7052,\n",
    "            }\n",
    "squares = {x:x*x for x in range(6)}\n",
    "print(phonebook)\n",
    "print(squares)\n",
    "print(phonebook['jack'])"
   ]
  },
  {
   "cell_type": "markdown",
   "metadata": {},
   "source": [
    "> 파이썬의 딕셔너리는 임의의 해시 가능 타입인 키를 사용해 색인한다.<br>\n",
    "해시 가능 객체는 수명동안 해시값이 변경되지 않으며 다른 객체와 비교할 수 있다.<br>\n",
    "또한 동등한 해시 가능 객체들은 모두 해시값이 같아야 한다.<br>\n",
    "해시 값으로는 문자열 및 숫자와 같은 변경 불가능한 타입은 해시 가능하며 딕셔너리 키로 사용할 수 있다.<br>\n",
    "또한 해시 가능 타입만 포함되어 있는 tuple객체도 딕셔너리 키로 사용이 가능하다.<br>\n",
    "일반적으로 파이썬에서 제공되는 딕셔너리 데이터 타입은 조회, 삽입, 갱신, 및 삭제 작업의 시간 복잡성이 O(1)이 된다.<br>\n",
    "대부분의 경우에는 딕셔너리 타입으로 해시 테이블을 구현하면 되지만 특수한 경우 스킵리스트 또는 B-트리 기반 딕셔너리 등 이 있다.<br>\n",
    "<br>\n",
    "> # 키 삽입 순서를 기억하는 딕셔너리 collections.OrderedDict<br>\n",
    "> 파이썬에서는 키의 삽입 순서를 기억하는 dict의 특수한 서브클래스인 collections.OrderedDict가 있다.<br>\n",
    "일반 dict도 키 삽입 순서를 저장하기는 하지만 이는 CPython으로 구현되면서 생긴 것으로 따로 명시가 되어 있지 않기 때문에<br>\n",
    "키 삽입 순서가 중요한 딕셔너리 타입 리스트를 사용하고자 할때는 OrderdDict를 명시적으로 사용해주는 것이 좋다.<br>\n",
    "\n",
    "> # 누락된 키의 기본값 반환 collections.defaultdict\n",
    "> defaultdict 클래스는 딕셔너리에서 파생된 또다른 서브 클래스로 호출 가능한 함수를 입력받고, 요청된 키를 찾을 수 없는 경우<br>\n",
    "이 함수의 반환값을 반환하게 된다. 즉 키 값이 없을때 에러를 반환하는 것이 아닌 default값을 반환하게 하는 딕셔너리 타입이다.<br>\n",
    "그렇기 때문에 get() 메서드를 사용하거나 일반 딕셔너리에서 keyError예외를 잡아내는데 보다 효율적으로 처리가 가능하며<br>\n",
    "또한 본래 딕셔너리타입보다 명확하게 프로그래머의 의도를 명시할 수 있다.<br>"
   ]
  },
  {
   "cell_type": "code",
   "execution_count": 10,
   "metadata": {},
   "outputs": [
    {
     "name": "stdout",
     "output_type": "stream",
     "text": [
      "OrderedDict([('one', 1), ('two', 2), ('three', 3)])\n",
      "OrderedDict([('one', 1), ('two', 2), ('three', 3), ('four', 4)])\n",
      "odict_keys(['one', 'two', 'three', 'four'])\n",
      "['Rufus', 'Kathrin', 'Mr Sniffles']\n",
      "[]\n"
     ]
    }
   ],
   "source": [
    "from collections import OrderedDict, defaultdict\n",
    "\n",
    "d = OrderedDict(one=1,two=2,three=3)\n",
    "print(d)\n",
    "d['four'] = 4\n",
    "print(d)\n",
    "print(d.keys())\n",
    "\n",
    "dd = defaultdict(list)\n",
    "dd['dogs'].append('Rufus')\n",
    "dd['dogs'].append('Kathrin')\n",
    "dd['dogs'].append('Mr Sniffles')\n",
    "print(dd['dogs'])\n",
    "print(dd['test'])\n",
    "#즉 위에서 처음 dogs가 키로 할당된 리스트가 없기 때문에 자동으로 list함수가 호출되면서 해당 객체에 list가 생성되게 된다.\n",
    "#따라서 dd['test']가 호출될때 dd['test']라는 곳이 리스트타입의 데이터 객체가 선언된다."
   ]
  },
  {
   "cell_type": "markdown",
   "metadata": {},
   "source": [
    "> # 읽기 전용 딕셔너리를 만들기 위한 래퍼 types.MappingProxyType\n",
    "\n",
    "> MappingProxyType은 표준 딕셔너리를 감싼 래퍼로, 감싸진 딕셔너리의 데이터에 대한 읽기 전용 인터페이스를 제공한다.<br>\n",
    "즉 쓰기를 제한하는 딕셔너리 데이터 타입을 작성하는데 사용된다.<br>\n",
    "이를 활용하면 딕셔너리의 전체 사본을 만들 필요 없이 이러한 제약을 적용할 수 있다."
   ]
  },
  {
   "cell_type": "code",
   "execution_count": 14,
   "metadata": {},
   "outputs": [
    {
     "name": "stdout",
     "output_type": "stream",
     "text": [
      "1\n"
     ]
    },
    {
     "ename": "TypeError",
     "evalue": "'mappingproxy' object does not support item assignment",
     "output_type": "error",
     "traceback": [
      "\u001b[1;31m---------------------------------------------------------------------------\u001b[0m",
      "\u001b[1;31mTypeError\u001b[0m                                 Traceback (most recent call last)",
      "\u001b[1;32m<ipython-input-14-2600067703bb>\u001b[0m in \u001b[0;36m<module>\u001b[1;34m\u001b[0m\n\u001b[0;32m      3\u001b[0m \u001b[0mread_only\u001b[0m \u001b[1;33m=\u001b[0m \u001b[0mMappingProxyType\u001b[0m\u001b[1;33m(\u001b[0m\u001b[0mwritable\u001b[0m\u001b[1;33m)\u001b[0m\u001b[1;33m\u001b[0m\u001b[1;33m\u001b[0m\u001b[0m\n\u001b[0;32m      4\u001b[0m \u001b[0mprint\u001b[0m\u001b[1;33m(\u001b[0m\u001b[0mread_only\u001b[0m\u001b[1;33m[\u001b[0m\u001b[1;34m'one'\u001b[0m\u001b[1;33m]\u001b[0m\u001b[1;33m)\u001b[0m\u001b[1;33m\u001b[0m\u001b[1;33m\u001b[0m\u001b[0m\n\u001b[1;32m----> 5\u001b[1;33m \u001b[0mread_only\u001b[0m\u001b[1;33m[\u001b[0m\u001b[1;34m'one'\u001b[0m\u001b[1;33m]\u001b[0m\u001b[1;33m=\u001b[0m\u001b[1;36m23\u001b[0m\u001b[1;33m\u001b[0m\u001b[1;33m\u001b[0m\u001b[0m\n\u001b[0m\u001b[0;32m      6\u001b[0m \u001b[1;31m#이때 writable을 수정하게 되면 read_only의 값 역시 변경되게 된다.\u001b[0m\u001b[1;33m\u001b[0m\u001b[1;33m\u001b[0m\u001b[1;33m\u001b[0m\u001b[0m\n",
      "\u001b[1;31mTypeError\u001b[0m: 'mappingproxy' object does not support item assignment"
     ]
    }
   ],
   "source": [
    "from types import MappingProxyType\n",
    "writable = {'one':1, 'two':2}\n",
    "read_only = MappingProxyType(writable)\n",
    "print(read_only['one'])\n",
    "read_only['one']=23\n",
    "#이때 writable을 수정하게 되면 read_only의 값 역시 변경되게 된다."
   ]
  },
  {
   "cell_type": "markdown",
   "metadata": {},
   "source": [
    "> 매핑 타입 즉 해시 테이블이 필요한 데이터 타입을 사용할 경우 파이썬의 dict와 추가적으로 제공되는 다양한 래퍼와 딕셔너리 타입은<br>\n",
    "대부분의 경우를 충족시킬만한 성능을 제공한다.<br>\n",
    "크리고 보다 명확하게 프로그래머의 의도를 코드안에 넣을 수 있어서 코드 유지보수를 더 효과적으로 할 수 있게 된다."
   ]
  },
  {
   "cell_type": "markdown",
   "metadata": {},
   "source": [
    "# 2. 배열 데이터 구조\n",
    "\n",
    "> 배열은 대부분의 프로그래밍 언어에서 사용할 수 있는 기본 데이터 구조이며 서로 다른 알고리즘에서 다양한 용도로 사용된다.<br>\n",
    "파이썬 표준 라이브러리에 역시 배열을 제공하고 있으며 다양한 배열이 제공된다.<br>\n",
    "배열은 인덱스를 기반으로 각 요소를 효율적으로 배치할 수 있는 고정 크기 데이터 레코드로 구성된다.<br>\n",
    "배열은 인접한 메모리 블록에 정보를 저장하기 때문에 '연속적인' 데이터 구조로 간주된다.<br>\n",
    "예를 들어 연결 리스트와 같은 '연결된' 데이터 구조와 반대된다.<br>\n",
    "이때 연결 리스트는 현재 위치에서 다음 위치로 주소값을 저장하고 그를 통해서 연결 된다.<br>\n",
    "인덱스가 부여된 배열에서 요소를 찾는 경우 일정한 O(1)의 접근 시간을 보장한다.<br>\n",
    "\n",
    "> ## 가변 동적 배열 : list<br>\n",
    "\n",
    ">리스트는 파이썬의 핵심 기능중 하나이다. 이름은 리스트이지만 파이썬의 리스트는 내부에서 '동적 배열'로 구현된다.<br>\n",
    "즉 리스트에는 요소를 추가하거나 제거할 수 있으며 리스트는 메모리를 자동으로 할당하거나 해제함으로써 요소를 담는 저장소 크기를 자동으로 조절한다.<br>\n",
    "파이썬 리스트는 임의의 요소를 가질 수 있기 때문에 함수를 비롯해 모든 객체가 담긴 서로 다른 종류의 데이터 타입이 뒤섞여진 단일 리스트를 선언할 수 있다.<br>\n",
    "이는 프로그래밍이 더욱 쉽게 되는 장점이 될 수 있으나 전체 구조에 더 많은 메모리 공간이 소비되게 된다.<br>\n",
    "\n",
    "> ## 불변 컨테이너 : tuple<br>\n",
    "\n",
    ">리스트와 마찬가지로 핵심 기능중 하나인 tuple이 있다. 리스트와 달리 tuple은 선언이 한번 되면 더이상 데이터를 수정하는 것이 불가능하다.<br>\n",
    "즉 요소를 동적으로 추가하거나 제거할 수 없으며 생성할 때 튜플의 모든 요소를 정의해야 한다.<br>\n",
    "튜플 역시 임의의 데이터 타입의 요소로 담을 수 있는 유연성을 가지고 있지만, 타입 지정 배열보다 메모리 공간을 더 차지하게 된다.<br>\n",
    "\n",
    "> ## 기본적인 타입 지정 배열 array.array<br>\n",
    "\n",
    ">파이썬의 array모듈은 바이트, 32비트 정수, 부동소수점 숫자 등과 같은 기본 C스타일 데이터 타입을 담을 수 있는<br>\n",
    "메모리를 보다 효율적으로 사용할 수 있게 해주는 배열이다.<br>\n",
    "list와 가장 큰 차이점은 단일 데이터 타입으로 제한된 '타입 지정 배열'이라는 점이다.<br>\n",
    "따라서 list나 tuple보다 메모리 공간사용에 있어서 효율적이다.<br>\n",
    "여기에 저장된 요소들은 메모리에 빽빽하게 채워 넣어져 같은 타입의 요소를 많이 저장해야 할 때 유용하다.<br>\n",
    "\n",
    "> ## 유니코드 문자의 불변 배열 str <br>\n",
    "\n",
    "> 파이썬3부터는 str 객체를 사용하여 텍스트 데이터를 유니코드 문자의 불변이며 연속적인 데이터로 저장한다.<br>\n",
    "실제로 str은 불면의 문자 배열이다. 특이하게도 str은 재귀적 데이터 구조다.<br>\n",
    "즉 str의 각 문자는 길이가 1인 str객체로 구성되어 있다.<br>\n",
    "따라서 문자열 객체는 단일 데이터 타입에 특화되어 있고 밀집되어 있기 때문에 공간 효율적이다.<br>\n",
    "따라서 유니코드 텍스트를 저장하는 경우 str을 사용하는 것이 좋다.<br>\n",
    "또한 문자열은 파이썬에서 불변이므로 문자열을 수정하려고 하면 수정된 복사본이 만들어진다.<br>\n",
    "\n",
    "> ## 단일 바이트의 불변 배열 bytes<br>\n",
    "\n",
    ">바이트 객체는 단일 바이트(0 ~ 255 범위의 정수)의 불변이며 연속된 데이터다.<br>\n",
    "기본적으로 str객체와 비슷하지만 불변의 바이트 배열로 생각할 수 있다.<br>\n",
    "또한 바이트는 객체 생성을 위한 리터럴 문법을 제공하며 공간 효율적이다.<br>\n",
    "바이트 객체는 불변이지만 문자열과 달리 bytearray라는 전용 '가변 바이트 배열' 데이터 타입이 있다.<br>\n",
    "따라서 바이트배열에 특정 인덱스의 값을 변경하거나 추가할 수 없고<br>\n",
    "b'\\x00\\x01\\x02' 와 같이 리터럴 타입으로 정의할 수도 있다."
   ]
  },
  {
   "cell_type": "code",
   "execution_count": 16,
   "metadata": {},
   "outputs": [
    {
     "name": "stdout",
     "output_type": "stream",
     "text": [
      "b'\\x00\\x01\\x02\\x03\\x04'\n"
     ]
    },
    {
     "ename": "TypeError",
     "evalue": "'bytes' object does not support item assignment",
     "output_type": "error",
     "traceback": [
      "\u001b[1;31m---------------------------------------------------------------------------\u001b[0m",
      "\u001b[1;31mTypeError\u001b[0m                                 Traceback (most recent call last)",
      "\u001b[1;32m<ipython-input-16-48bfc67b755b>\u001b[0m in \u001b[0;36m<module>\u001b[1;34m\u001b[0m\n\u001b[0;32m      1\u001b[0m \u001b[0marr\u001b[0m \u001b[1;33m=\u001b[0m \u001b[0mbytes\u001b[0m\u001b[1;33m(\u001b[0m\u001b[1;33m(\u001b[0m\u001b[1;36m0\u001b[0m\u001b[1;33m,\u001b[0m\u001b[1;36m1\u001b[0m\u001b[1;33m,\u001b[0m\u001b[1;36m2\u001b[0m\u001b[1;33m,\u001b[0m\u001b[1;36m3\u001b[0m\u001b[1;33m,\u001b[0m\u001b[1;36m4\u001b[0m\u001b[1;33m)\u001b[0m\u001b[1;33m)\u001b[0m\u001b[1;33m\u001b[0m\u001b[1;33m\u001b[0m\u001b[0m\n\u001b[0;32m      2\u001b[0m \u001b[0mprint\u001b[0m\u001b[1;33m(\u001b[0m\u001b[0marr\u001b[0m\u001b[1;33m)\u001b[0m\u001b[1;33m\u001b[0m\u001b[1;33m\u001b[0m\u001b[0m\n\u001b[1;32m----> 3\u001b[1;33m \u001b[0marr\u001b[0m\u001b[1;33m[\u001b[0m\u001b[1;36m5\u001b[0m\u001b[1;33m]\u001b[0m \u001b[1;33m=\u001b[0m \u001b[1;36m300\u001b[0m\u001b[1;33m\u001b[0m\u001b[1;33m\u001b[0m\u001b[0m\n\u001b[0m",
      "\u001b[1;31mTypeError\u001b[0m: 'bytes' object does not support item assignment"
     ]
    }
   ],
   "source": [
    "arr = bytes((0,1,2,3,4))\n",
    "print(arr)\n",
    "#또한 바이트는 배열을 변경하고 수정할 수 없는 불변 배열이다."
   ]
  },
  {
   "cell_type": "markdown",
   "metadata": {},
   "source": [
    "> ## 단일 바이트의 가변 배열 bytearray<br>\n",
    "\n",
    "> bytearray 타입은 0~255 범위의 정수로 이루어진 변경 가능한 연속 데이터 이다.<br>\n",
    "bytes객체와 밀접한 연관이 있으며 주요한 차이점은 바이트 배열은 자유롭게 수정할 수 있다는 것이다.<br>\n",
    "요소를 덮어쓰거나 기존 요소를 제거하고 새로 추가할 수 있다. 따라서 객체의 크기는 그에 따라 증가되거나 축소 될 수 있다.<br>\n",
    "바이트 배열은 불변의 bytes객체로 다시 변환될 수 있다. 그러나 저장된 데이터를 전부 복사하게 되므로\n",
    "O(n)의 시간이 걸리는 느릭 작업이다."
   ]
  },
  {
   "cell_type": "markdown",
   "metadata": {},
   "source": [
    "# 3. 레코드, 구조체, 데이터 전송 객체\n",
    "\n",
    "> 배열과 비교하면 레코드(record) 데이터 구조는 고정된 수의 필드를 제공하며 각 필드는 이름을 가질 수 있고 서로 다른 타입을 담을 수도 있다.<br>\n",
    "\n",
    "> ## struct.Struct 직렬화도니 C 구조체<br>\n",
    "\n",
    "> Struct클래스는 파이썬 bytes객체로 직렬화된 C 구조체와 파이썬 값 사이의 변환을 수행한다.<br>\n",
    "예를 들어 파일에 저장되거나 네트워크로부터 들어오는 이진 데이터를 처리하는데 유용하게 사용할 수 있다.<br>\n",
    "직렬화된 구조체는 파이썬 객체를 나타내는데는 거의 사용되지 않으며, 파이썬 코드에서만 사용되는 데이터를 메모리에 저장하는 것 보다는<br>\n",
    "주로 데이터 교환 형식으로 사용된다.<br>\n",
    "경우에 따라 기본 데이터를 구조체에 담으려면 다른 데이터 타입으로 유지하는 것보다 메모리를 적게 사용할 수 있지만<br>\n",
    "너무 과한 고급 최적화가 된다.<br>\n",
    "아래와 같이 구현된다."
   ]
  },
  {
   "cell_type": "code",
   "execution_count": 18,
   "metadata": {},
   "outputs": [
    {
     "name": "stdout",
     "output_type": "stream",
     "text": [
      "b'\\x17\\x00\\x00\\x00\\x00\\x00\\x00\\x00\\x00\\x00(B'\n",
      "(23, False, 42.0)\n"
     ]
    }
   ],
   "source": [
    "from struct import Struct\n",
    "MyStruct = Struct('i?f') # i : int ? : bool, f : float\n",
    "data = MyStruct.pack(23,False,42.0)\n",
    "print(data)\n",
    "print(MyStruct.unpack(data))"
   ]
  },
  {
   "cell_type": "markdown",
   "metadata": {},
   "source": [
    "> ## 세련된 속성 접근 types.SimpleNamespace<br>\n",
    "\n",
    "> 파이썬에서는 데이터 객체를 구현하기 위한 또 하나의 '난해한' 방법인 types.SimpleNamespace가 있다.<br>\n",
    "네임스페이스의 속성에 접근할 수 있도록 해 준다.<br>\n",
    "SimpleNamespace 인스턴스는 모든 키를 클래스 속성으로 노출한다.<br>\n",
    "따라서 대괄호를 활용한 인덱싱 obj\\[\\'key\\'\\] 문법대신 obj.key와 같은 점 속성으로 데이터를 접근 할 수 있게 한다.<br>\n",
    "그리고 간단한 이름스페이스를 가진 배열이기 때문에 보다 간단하고 쉽게 데이터를 출력하고 추가 수정 삭제할 수 있다.\n",
    "\n",
    "> * 2~3개의 소량의 필드만 갖고 있다 : 필드의 순서를 기억하기 쉽거나 필드명이 불필요 한경우 일반 튜플 객체를 사용하는 것이 좋다.\n",
    "* 불변 필드가 필요하다 : 이 경우 일반 튜플, collections.namedtuple, typing.NamedTuple은 모두 이타입 데이터 객체를 구현하는데 좋다.\n",
    "* 오타가 발생하지 않도록 필드 이름을 고정할 필요가 있다 : collections.namedtuple과 typing.NamedTuple이 유용하다.\n",
    "* 간단하게 유지하기를 원한다 : 일반 딕셔너리 객체는 JSON과 매우 비슷한 편리한 구문을 제공하므로 좋은 선택일 수 있다.\n",
    "* 데이터 구조를 완전히 제어할 필요가 있다 : @property의 getter와 setter를 사용하여서 사용자 정의 클래스를 작성하는 것이 좋다.\n",
    "* 객체에 동작(메서드)를 추가해야 한다 : 사용자 정의 클래스를 처음부터 작성하거나 collections.namedtuple 또는 typing.NamedTuple을 확장해서 사용한다.\n",
    "* 데이터를 디스크에 저장하거나 네트워크로 전송해야 해서 데이터를 일렬로 빽빽하게 담아야 한다 : struct.Struct로 구현이 가능하다.\n",
    "\n",
    ">하지만 안전하고 기본적인 선택을 찾고 있다면 typing.NamedTuple을 사용하는것이 무난하다."
   ]
  },
  {
   "cell_type": "markdown",
   "metadata": {},
   "source": [
    "# 4. 세트와 멀티 세트\n",
    "> 세트(set)은 중복 요소를 허용하지 않는 정렬도지 않은 컬렉션을 말한다.<br>\n",
    "일반적으로 세트는 특정 값이 세트에 포함되는지를 빠르게 테스트하고 새 값을 삽입하거나 삭제하며 두 세트의 합집합 또는 교집합을 계산하는데 유용하다.<br>\n",
    "'제대로' 구현된 세트라면 구성원 테스트가 O(1)이라는 빠른 시간에 실행되며<br>\n",
    "합집합 교집합 차집합 부분집합 작업은 평균 O(n)이 소요된다.<br>\n",
    "딕셔너리와 마찬가지로 세트는 파이썬에서 특별 ㅐㄷ우를 받으며 중괄호를 이용해서 간편하게 정의할 수 있다."
   ]
  },
  {
   "cell_type": "code",
   "execution_count": 20,
   "metadata": {},
   "outputs": [
    {
     "name": "stdout",
     "output_type": "stream",
     "text": [
      "{'a', 'e', 'i', 'o', 'u'}\n",
      "{0, 1, 64, 4, 36, 9, 16, 49, 81, 25}\n"
     ]
    }
   ],
   "source": [
    "vowels = {'a','e','i','o','u'}\n",
    "squares = {x*x for x in range(10)}\n",
    "print(vowels)\n",
    "print(squares)\n",
    "#이때 빈 set객체를 만들기 위해서는 {}로 선언하게 되면 비어있는 딕셔너리 타입이 생성되기 때문에 set()으로 선언하여야 한다."
   ]
  },
  {
   "cell_type": "markdown",
   "metadata": {},
   "source": [
    "> ## 나만의 믿음직한 세트 set<br>\n",
    "\n",
    ">set은 파이썬 내장 세트 구현이다. 변경가능하며 요소를 동적으로 삽입 삭제할 수 있다.<br>\n",
    "파이썬의 세트는 dict 데이터 타입에 의해 뒷받침되며 동일한 성능 특성을 공유한다.<br>\n",
    "따라서 해시 가능한 객체라면 모두 세트에 저장할 수 있다.<br>\n",
    "\n",
    "> ## 불변 세트 frozenset<br>\n",
    "\n",
    "> frozenset클래스는 set의 '불변'버전으로 생성된 후에는 변경할 수 없다.<br>\n",
    "프로즌세트는 정적이며 요소에 대한 쿼리 작업만 혀용하므로 삭제와 삽입이 허용되지 않는다.<br>\n",
    "프로즌세트는 정적이며 해시 가능하기 때문에 딕셔너리 키 또는 다른 세트의 요소로 사용할 수 있다.<br>\n",
    "\n",
    "> ## 멀티세트 : collections.Counter<br>\n",
    "\n",
    ">파이썬 표준 라이브러리의 collections.Counter 클래스는 요소가 두 번 이상 나타날 수 있는 멀티세트(또는bag)타입을 구현한다.<br>\n",
    "이는 요소가 세트의 일부인지 아닌지뿐 아니라 세트에 포함된 '횟수'를 추적해야 할 떄 유용하다.<br>\n",
    "Counter객체의 요소 수를 셀 떄는 len()을 호출하면 서로 다른 요소의 숫자 즉 고유 요소 수를 반환하고<br>\n",
    "sum() 함수를 사용하면 총 요소의 수가 반환되게 된다. 모든 요소의 수가 반환된다.<br>"
   ]
  },
  {
   "cell_type": "markdown",
   "metadata": {},
   "source": [
    "# 5. 스택(LIFO)\n",
    "\n",
    "> 스택(stack)은 데이터의 삽입과 삿제를 후입 선출 방식으로 빠르게 처리해 주는 객체 컬렉션이다.<br>\n",
    "리스트나 배열과 달리 스택은 일반적으로 요소 객체로의 임의 점근을 허용하지 않는다. 삽입 및 삭제 작업은 종종 push(삽입) pop(삭제)라고 한다.<br>\n",
    "스택과 큐(queue)는 순차적인 컬렉션이지만 데이터에 접근하는 방법이 다르다는 차이가 있다.<br>\n",
    "큐에서는 가장 오래전에 추가된 요소를 제거하는 FIFO방식으로 데이터를 처리한다.<br>\n",
    "이와 달리 스택은 가장 최근에 추가된 항목을 제거하는 LIFO또는 FILO방식으로 데이터를 처리한다.<br>\n",
    "제대로 구현된 스택은 삽입 및 삭제 작업에 O(1) 시간이 걸린다.<br>\n",
    "스택은 알고리즘에서 광범위한 용도로 쓰인다.<br>\n",
    "* 런타임 메모리 관리('호출 스택')\n",
    "* 트리(tree) 또는 그래프(graph)데이터 구조에서 깊이 우선 탐색(depth-first search,DFS)\n",
    ">와 같은 알고리즘들을 스택을 활용해서 구현하게 되면 보다 짧고 효율적으로 구현이 가능하다.<br>\n",
    "\n",
    "> ## 간단한 내장 스택 : list<br>\n",
    "\n",
    "> 파이썬의 내장 list타입은 O(1) 시간에 푸시 및 팝 작업을 수행하므로 괜찮은 스택 데이터 구조다.<br>\n",
    "파이썬의 리스트는 내부적으로 동적 배열로 구현된다. 즉 항목이 추가되거나 제거될 때 저장된 항목의 저장 공간 크기를 가끔씩 조정해야 한다.<br>\n",
    "리스트는 저장소를 필요보다 많이 할당해 두므로 푸시 또는 팝을 수행할 떄마다 크기를 조정해야 하는 것은 아니다.<br>\n",
    "이러한 작업에 대해 결과적으로 O(1)의 시간복잡성을 갖게 된다.<br>\n",
    "단점은 연결 리스트 기반 구현에서 제공하는 안정적인 O(1)삽입과 삭제보다 성능에서 일관성이 떨어진다.<br>\n",
    "반면 리스트는 요소로의 무작위 접근을 빠른 O(1) 시간에 수행할 수 있다는 이점을 추가로 제공한다.<br>\n",
    "삽입 및 삭제시 O(1) 성능을 얻기 위해서는 새 항목은 append()메서드를 사용해서 push해야 하고<br>\n",
    "제거할 때는 pop() 메서드를 사용하여서 데이터를 제거해야 최적의 성능을 나타낼 수 있다.<br>\n",
    "즉 최적의 성능을 위해 리스트 기반 스택은 다 높은 인덱스 쪽으로 커지고 더 낮은 인덱스 쪽으로 줄어들어야 한다.<br>\n",
    "앞쪽부터 추가, 제거하는 작업은 훨씬 느리고 O(n)의 시간이 필요하게 되고,<br>\n",
    "새 요소를 저장하기 위한 공간을 만들기 위해 기존 요소를 옮겨야 하기 때문이다.<br>\n",
    "\n",
    "> ## 빠르고 강력한 스택 collections.deque (double ended queue, stack과 queue를 합친 클래스)<br>\n",
    "\n",
    "> deque 클래스는 O(1) 시간에 어느 쪽에서는(상단과 하단) 요소를 추가 제거할 수 있는 양단 큐다.<br>\n",
    "데크는 양쪽 끝에서 요소를 동일하게 추가, 제거해도 되기 때문에 큐와 스택으로 모두 사용할 수 있다.\n",
    "deque 객체는 이중 연결리스트로 구현되어 요소를 삽입하고 삭제하는데 있어 탁월하고 일관된 성능을 제공하지만<br>\n",
    "스택의 중간의 임의의 우너소에 접근하려 할때는 나쁜 성능 O(n)의 성능을 갖는다.<br>\n",
    "전반적으로 collections.deque는 파이썬의 표준 라이브러리에서 연결 리스트의 성능 특성을 가지는 스택 데이터 구조를 찾는 경우에 가장 적합한 옵션이다.<br>\n",
    "\n",
    "> ## 병렬 컴퓨팅을 위한 잠금 체계 : queue.LifoQueue<br>\n",
    "\n",
    "> LifoQueue 스택 구현은 동기 방식이며 동시에 여러 생산자와 소비자를 지원하는 잠금체계를 제공한다.<br>\n",
    "용도에 따라 잠금 체계가 도움이 될 수도 있고 불필요한 부하가 발생할 수도 있다.<br>\n",
    "잠금 체계가 필요 없다면 범용 스택으로 list나 deque를 사용하는 것이 더 좋다.<br>\n",
    "리스트에 저장되어 있는것이 명령과 같은 경우 병렬 컴퓨터를 통해서 명령이 입력되자마자 처리하는 방식으로 데이터를 호출하는데 사용될 수 있다.<br>\n",
    "이를 위해서는 LifoQueue가 효율적으로 사용될 수 있다.<br>\n",
    "아래의 예제에서 보면 마지막 s.get()에서는 컴퓨터가 호출될께 나올때 까지 영원히 기다리게 된다."
   ]
  },
  {
   "cell_type": "code",
   "execution_count": 21,
   "metadata": {},
   "outputs": [
    {
     "data": {
      "text/plain": [
       "<queue.LifoQueue at 0x22a6fc6eb70>"
      ]
     },
     "execution_count": 21,
     "metadata": {},
     "output_type": "execute_result"
    }
   ],
   "source": [
    "from queue import LifoQueue\n",
    "s = LifoQueue()\n",
    "s.put('eat')\n",
    "s.put('sleep')\n",
    "s.put('code')\n",
    "s"
   ]
  },
  {
   "cell_type": "code",
   "execution_count": 22,
   "metadata": {},
   "outputs": [
    {
     "data": {
      "text/plain": [
       "'code'"
      ]
     },
     "execution_count": 22,
     "metadata": {},
     "output_type": "execute_result"
    }
   ],
   "source": [
    "s.get()"
   ]
  },
  {
   "cell_type": "code",
   "execution_count": 23,
   "metadata": {},
   "outputs": [
    {
     "data": {
      "text/plain": [
       "'sleep'"
      ]
     },
     "execution_count": 23,
     "metadata": {},
     "output_type": "execute_result"
    }
   ],
   "source": [
    "s.get()"
   ]
  },
  {
   "cell_type": "code",
   "execution_count": 24,
   "metadata": {},
   "outputs": [
    {
     "data": {
      "text/plain": [
       "'eat'"
      ]
     },
     "execution_count": 24,
     "metadata": {},
     "output_type": "execute_result"
    }
   ],
   "source": [
    "s.get()"
   ]
  },
  {
   "cell_type": "code",
   "execution_count": 25,
   "metadata": {},
   "outputs": [
    {
     "ename": "Empty",
     "evalue": "",
     "output_type": "error",
     "traceback": [
      "\u001b[1;31m---------------------------------------------------------------------------\u001b[0m",
      "\u001b[1;31mEmpty\u001b[0m                                     Traceback (most recent call last)",
      "\u001b[1;32m<ipython-input-25-0bd7ad76be38>\u001b[0m in \u001b[0;36m<module>\u001b[1;34m\u001b[0m\n\u001b[1;32m----> 1\u001b[1;33m \u001b[0ms\u001b[0m\u001b[1;33m.\u001b[0m\u001b[0mget_nowait\u001b[0m\u001b[1;33m(\u001b[0m\u001b[1;33m)\u001b[0m\u001b[1;33m\u001b[0m\u001b[1;33m\u001b[0m\u001b[0m\n\u001b[0m",
      "\u001b[1;32mc:\\programdata\\anaconda3\\envs\\py3_7\\lib\\queue.py\u001b[0m in \u001b[0;36mget_nowait\u001b[1;34m(self)\u001b[0m\n\u001b[0;32m    196\u001b[0m         \u001b[1;32mraise\u001b[0m \u001b[0mthe\u001b[0m \u001b[0mEmpty\u001b[0m \u001b[0mexception\u001b[0m\u001b[1;33m.\u001b[0m\u001b[1;33m\u001b[0m\u001b[1;33m\u001b[0m\u001b[0m\n\u001b[0;32m    197\u001b[0m         '''\n\u001b[1;32m--> 198\u001b[1;33m         \u001b[1;32mreturn\u001b[0m \u001b[0mself\u001b[0m\u001b[1;33m.\u001b[0m\u001b[0mget\u001b[0m\u001b[1;33m(\u001b[0m\u001b[0mblock\u001b[0m\u001b[1;33m=\u001b[0m\u001b[1;32mFalse\u001b[0m\u001b[1;33m)\u001b[0m\u001b[1;33m\u001b[0m\u001b[1;33m\u001b[0m\u001b[0m\n\u001b[0m\u001b[0;32m    199\u001b[0m \u001b[1;33m\u001b[0m\u001b[0m\n\u001b[0;32m    200\u001b[0m     \u001b[1;31m# Override these methods to implement other queue organizations\u001b[0m\u001b[1;33m\u001b[0m\u001b[1;33m\u001b[0m\u001b[1;33m\u001b[0m\u001b[0m\n",
      "\u001b[1;32mc:\\programdata\\anaconda3\\envs\\py3_7\\lib\\queue.py\u001b[0m in \u001b[0;36mget\u001b[1;34m(self, block, timeout)\u001b[0m\n\u001b[0;32m    165\u001b[0m             \u001b[1;32mif\u001b[0m \u001b[1;32mnot\u001b[0m \u001b[0mblock\u001b[0m\u001b[1;33m:\u001b[0m\u001b[1;33m\u001b[0m\u001b[1;33m\u001b[0m\u001b[0m\n\u001b[0;32m    166\u001b[0m                 \u001b[1;32mif\u001b[0m \u001b[1;32mnot\u001b[0m \u001b[0mself\u001b[0m\u001b[1;33m.\u001b[0m\u001b[0m_qsize\u001b[0m\u001b[1;33m(\u001b[0m\u001b[1;33m)\u001b[0m\u001b[1;33m:\u001b[0m\u001b[1;33m\u001b[0m\u001b[1;33m\u001b[0m\u001b[0m\n\u001b[1;32m--> 167\u001b[1;33m                     \u001b[1;32mraise\u001b[0m \u001b[0mEmpty\u001b[0m\u001b[1;33m\u001b[0m\u001b[1;33m\u001b[0m\u001b[0m\n\u001b[0m\u001b[0;32m    168\u001b[0m             \u001b[1;32melif\u001b[0m \u001b[0mtimeout\u001b[0m \u001b[1;32mis\u001b[0m \u001b[1;32mNone\u001b[0m\u001b[1;33m:\u001b[0m\u001b[1;33m\u001b[0m\u001b[1;33m\u001b[0m\u001b[0m\n\u001b[0;32m    169\u001b[0m                 \u001b[1;32mwhile\u001b[0m \u001b[1;32mnot\u001b[0m \u001b[0mself\u001b[0m\u001b[1;33m.\u001b[0m\u001b[0m_qsize\u001b[0m\u001b[1;33m(\u001b[0m\u001b[1;33m)\u001b[0m\u001b[1;33m:\u001b[0m\u001b[1;33m\u001b[0m\u001b[1;33m\u001b[0m\u001b[0m\n",
      "\u001b[1;31mEmpty\u001b[0m: "
     ]
    }
   ],
   "source": [
    "s.get_nowait()"
   ]
  },
  {
   "cell_type": "code",
   "execution_count": null,
   "metadata": {},
   "outputs": [],
   "source": [
    "s.get()"
   ]
  },
  {
   "cell_type": "markdown",
   "metadata": {},
   "source": [
    "> 위에서 확인 할 수 있듯이 파이썬에서는 스택 데이터 구조를 구현한 클래스가 여러개 표현되어 있다.<br>\n",
    "병렬 처리를 지원하지 않아도 된다면(또는 수동으로 잠금 햋제를 처리하지 않으려는 경우<br>\n",
    "list타입 또는 collections.deque객체를 활용하면 된다."
   ]
  },
  {
   "cell_type": "markdown",
   "metadata": {},
   "source": [
    "# 6. 큐(FIFO)\n",
    "\n",
    ">파이썬 표준 라이브러리의 내장 데이터 타입과 클래스만 사용하여 FIFO 큐 데이터 구조를 구현할 수 있다.<br>\n",
    "큐는 선입선출(FIFO) 방식의 삽입과 삭제를 지원하는 객체 컬렉션이다.<br>\n",
    "삽입 및 삭제 작업은 때때로 enqueue와 dequeue로 불리며 리스트나 배열과 달리 큐는 내부 객체에 대한 임의 접근이 불가능 하다.<br>\n",
    "제대로 구현된 큐는 삽입 및 삭제 작업에 O(1)의 시간이 걸린다.<br>\n",
    "삽입과 삭제는 큐가 지원하는 두 가지 핵심작업이며, 구현만 제대로 되었다면 아주 빠르게 수행된다.<br>\n",
    "큐는 알고리즘에서 다양하게 응용할 수 있고 병렬 프로그래밍과 스케쥴링 문제를 해결하는데 종종 도움이 된다.<br>\n",
    "트리나 그래프 데이터 구조에서 너비 우선 탐색(breadth-first search,BFS)는 큐를 활용해서 효율적으로 구현이 가능하다.<br>\n",
    "스케쥴링 알고리즘은 종종 우선순위 큐를 내부적으로 사용한다.이는 특수한 큐로서<br>\n",
    "우선순위 큐는 삽입 순서와 상관없이 우선순위가 가장 높은 항목을 먼저 제거한다.<br>\n",
    "일반적으로 큐는 전달하는 항목의 순서를 바꾸지 않고 그대로 정확한 순서대로 반환된다.\n",
    "\n",
    "> ## 끔찍하게 느린 큐 list<br>\n",
    "\n",
    ">일반 list를 queue로서 사용할 수 있지만 성능 관점에서는 바람직하지 않다. 요소를 리스트의 맨 앞에 삽입하거나 삭제하려면<br>\n",
    "모든 요소를 하나씩 변경해야 하기 때문에 O(n) 시간을 요구하므로 큐로 사용하기에는 상당히 느리다.<br>\n",
    "따라서 작은 크기의 배열을 사용하는 경우가 아니면 list를 활용해서 queue를 구현하는 것은 지양하여야 한다.<br>\n",
    "\n",
    "> ## 빠르고 강력한 큐 collections.deque<br>\n",
    "\n",
    "> deque 클래스는 항목을 어느 끝에 추가하거나 삭제하더라도 O(1)시간에 처리해 주는 양단 큐다.<br>\n",
    "데크는 양 끝에서 항목을 동시에 추가하고 제거할 수 있기 때문에 큐와 스택으로 모두 활용이 가능하다.<br>\n",
    "파이썬의 deque 객체는 이중 연결 리스트로구현된다.<br>\n",
    "이는 항목 삽입 및 삭제에 대해 탁월하고 일관된 성능을 제공하지만 스택 중간의 요소에 임의로 접근하는 경우 형편없는 O(n)의 성능을 보인다.<br>\n",
    "결과적으로 파이썬을 활용해서 queue의 구조체를 구현하고자 한다면 collections.deque가 가장 좋은 선택이다.\n",
    "\n",
    "> ## 병렬 컴퓨팅을 위한 잠금 체계 queue.Queue<br>\n",
    "\n",
    "> queue.Queues는 동기 방식으로 구현되었으며 동시에 여러 생산자와 소비자에게 잠금체계를 제공한다.<br>\n",
    "queue모듈에는 병렬 컴퓨팅에 유용한 다중 생산자/ 다중 소비자 큐를 구현하는 몇 가지 다른 클래스가 포함되어 있다.<br>\n",
    "용도에 따라 잠금 체계가 도움이 되거나 불필요한 부하가 발생할 수 있다.<br>\n",
    "따라서 잠금체계가 필요하지 않다면 queue.Queue보다 collections.deque가 바람직하다.\n",
    "\n",
    "> ## 공유 작업 큐 multiporcessing.Queue<br>\n",
    "\n",
    "> 큐 안의 항목들을 여러 작업자가 동시에 처리할 수 있게 해 주는 공유 작업 큐 구현이다.<br>\n",
    "단일 인터프리터 프로세스에서 일부 병렬 실행을 못하게 제한하는 전역 인터프리터 잠금 떄문에 CPython에서는 프로세스 기반 병렬화가 널리 사용된다.<br>\n",
    "프로세스 간에 데이터를 공유하기 위한 특별한 큐 구현인 multiprocessing.Queue를 사용하면 GIL제한을 해결하고 여러 프로세스 간에 작업을 쉽게 배포 할 수 있다.<br>\n",
    "이런 타입의 큐는 프로세스 경계를 넘어서 피클 가능한 객체를 저장하고 전송 할 수 있다.\n",
    "\n",
    "\n",
    "> 우선순위 큐는 전 순서 집합으로 된 키가 있는 레코드 집합을 관리하는 컨테이너 데이터 구조다.<br>\n",
    "즉 키에 따른 크기비교나 순서 비교가 가능하다. 기본적인 queue의 경우는 삽입 순서가 우선순위가 되지만<br>\n",
    "우선순위 큐에서는 삽입 순서와 상관없이 새로운 우선순위를 할당하여서 가장 높은 우선순위의 데이터를 제거한다.<br>\n",
    "\n",
    "> ## 수동으로 정렬된 큐 유지하기 : list<br>\n",
    "\n",
    "> 정렬된 list를 사용하면 가장 작은 항목 또는 가장 큰 항목을 신속하게 찾아서 상제할 수 있다.<br>\n",
    "단점은 새 항목을 삽입하는 데는 느린 O(n)의 시간이 걸리게 된다.<br>\n",
    "삽입 지점은 표준라이브러리의 bisect.insort를 사용하여 O(logn)시간에 찾을 수 있지만<br>\n",
    "느린 삽입 단계 때문에 속도 개선 효과가 없다.<br>\n",
    "따라서 리스트에 항목을 추가한 후 다시 정렬해 순서를 유지하려면 적어도 O(nlogn)의 시간이 걸린다.<br>\n",
    "단점은 새로운 항목이 추가될떄 수동으로 리스트를 다시 정렬해야 한다는 것이다.<br>\n",
    "따라서 정렬된 리스트는 삽입이 거의 없을 경우에만 우선순위 큐로 사용해 볼 수 있다.\n",
    "\n",
    "> ## 리스트 기반 이진 힙 heapq<br>\n",
    "\n",
    ">이것은 일반 list에 의해 뒷받침되는 이진 힙 구현이다. 가장 작흔 항목의 삽입과 추출을 O(logn)의 시간에 해낸다.<br>\n",
    "heapq는 기술적으로 최소(min)힙 구현만 제공하기 때문에 실용적인 우선순위 큐에서 일반적으로 요구하는 정렬 안정성과 다른 기능을 보장하려면 추가 작업을 해주어야 한다.<br>\n",
    "\n",
    "> ## 아름다운 우선순위 큐 queue.PriorityQueue\n",
    "\n",
    "> 이 우선순위 큐 구현은 내부적으로 heapq를 사용하고 동일한 시간과 공간복잡성을 공유한다.<br>\n",
    "다른점은 PriorityQueue는 동기 방식이며 동시에 여러 생산자와 소비자를 지원하는 잠금 체계를 지원한다는 것이다.<br>\n",
    "용도에 따라 도움이 될수도 있고 또는 프로그램을 약간 느리게 할 수도 있다.<br>\n",
    "어떤 경우에는 heapq에서 제공하는 함수 기반 인터페이스보다 PriorityQueue에서 제공하는 클래스 기반 인터페이스를 선호할 수 있다."
   ]
  },
  {
   "cell_type": "code",
   "execution_count": null,
   "metadata": {},
   "outputs": [],
   "source": []
  }
 ],
 "metadata": {
  "kernelspec": {
   "display_name": "Python 3",
   "language": "python",
   "name": "python3"
  },
  "language_info": {
   "codemirror_mode": {
    "name": "ipython",
    "version": 3
   },
   "file_extension": ".py",
   "mimetype": "text/x-python",
   "name": "python",
   "nbconvert_exporter": "python",
   "pygments_lexer": "ipython3",
   "version": "3.7.3"
  }
 },
 "nbformat": 4,
 "nbformat_minor": 2
}
