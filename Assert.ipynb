{
 "cells": [
  {
   "cell_type": "markdown",
   "metadata": {},
   "source": [
    "# Assert문\n",
    "> * Python에서 제공하는 Assert기능을 통해서 단언 조건을 확인해서 디버깅을 더욱 편하게 하는 기능을 제공한다. <br>\n",
    "> * 단언문은 디버깅을 도와서 더욱 효과적으로 버그의 근본 원인을 찾을 수 있게 도와주는 방식이다. <br>\n",
    "> * 프로그램이 사용자가 생각한데로 작성되고 기능한다면 즉 버그가 존재하지 않는다면 단언문 에러는 발생하지 않는다. <br>\n",
    "> * assert(단언조건), \"errormessage\"형식으로 사용된다."
   ]
  },
  {
   "cell_type": "markdown",
   "metadata": {},
   "source": [
    "또한 Assert문은 인터프리터에서 Assert의 단언 조건을 검사하지 않게 설정할 수 있기 때문에, 보안의 이유로 하는 검증에는 단언문을 활용하면 안된다. <br>\n",
    "그리고 같은 이유로 단언문을 활용해서 데이터의 유효성을 검증하게되면 위와 같이 인터프리터에서 단언 조건을 확인 하지 않는 설정으로 변경하게 되었을때 심각한 버그가 발생하게 된다. <br>\n",
    "\n",
    "example\n",
    ">def delete_product(prod_id,user): <br>\n",
    ">>    assert(user.is_admin(), \"must be admin\" <br>\n",
    ">>    assert(store.has_product(prod_id),\"Unknown product\"<br>\n",
    ">>    store.get_product(prod_id).delete()<br>\n",
    "    \n",
    "와 같은 코드가 작성되어 있을때 <br>\n",
    "assert문의 단언 검사를 하지 않도록 설정하게 되면 어떠한 유저도 delete_product에 접근할 수 있게되고<br>\n",
    "또한 없는 product가 제거되는 버그가 발생 할 수 있고, 이는 프로그래머가 예측할 수 없게 프로그램이 작동하게 된다.<br>"
   ]
  },
  {
   "cell_type": "markdown",
   "metadata": {},
   "source": [
    "위와 같은 상황을 막기위해서는 데이터 유효성을 검사를 수행하는 용도로는 assert문을 절대로 사용하면 안되며"
   ]
  }
 ],
 "metadata": {
  "kernelspec": {
   "display_name": "Python 3",
   "language": "python",
   "name": "python3"
  },
  "language_info": {
   "codemirror_mode": {
    "name": "ipython",
    "version": 3
   },
   "file_extension": ".py",
   "mimetype": "text/x-python",
   "name": "python",
   "nbconvert_exporter": "python",
   "pygments_lexer": "ipython3",
   "version": "3.7.3"
  }
 },
 "nbformat": 4,
 "nbformat_minor": 2
}
